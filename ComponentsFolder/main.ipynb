{
 "cells": [
  {
   "cell_type": "code",
   "execution_count": 1,
   "id": "d128029e",
   "metadata": {},
   "outputs": [
    {
     "name": "stdout",
     "output_type": "stream",
     "text": [
      "📝 Guardando log en: logs/logsCitas_20250905.log\n",
      "🚀 Ejecutando scraper con paginación...\n",
      "🌐 Cargando página: https://quotes.toscrape.com/page/1/\n",
      "📖 Página actual (1): https://quotes.toscrape.com/page/1/\n",
      "💬 Quotes encontradas: 10\n",
      "📖 Página actual (2): https://quotes.toscrape.com/page/2/\n",
      "💬 Quotes encontradas: 10\n",
      "📖 Página actual (3): https://quotes.toscrape.com/page/3/\n",
      "💬 Quotes encontradas: 10\n",
      "⚠️ Límite máximo de citas alcanzado.\n",
      "📦 Guardadas 30 frases en data/outputs/quotes.csv.\n",
      "📊 Métricas por página:\n",
      "Página 1: 10 extraídas, 10 nuevas.\n",
      "Página 2: 10 extraídas, 10 nuevas.\n",
      "Página 3: 10 extraídas, 10 nuevas.\n",
      "📈 Métricas guardadas en data/outputs/metricas_20250905_214911.csv\n",
      "✅ Navegador cerrado.\n"
     ]
    }
   ],
   "source": [
    "from src.utils.logs import TeeToFile, build_log_path\n",
    "from src.core.paginator import ejecutar_pipeline_paginacion\n",
    " \n",
    "log_path = build_log_path(prefix=\"logsCitas\", folder=\"logs\", with_time=False)\n",
    "print(f\"📝 Guardando log en: {log_path}\")\n",
    " \n",
    "print(\"🚀 Ejecutando scraper con paginación...\")\n",
    "with TeeToFile(log_path):         # todo lo que se imprima también irá al archivo\n",
    "    ejecutar_pipeline_paginacion()"
   ]
  }
 ],
 "metadata": {
  "kernelspec": {
   "display_name": "Kernel Estudiante",
   "language": "python",
   "name": "kernel-estudiante"
  },
  "language_info": {
   "codemirror_mode": {
    "name": "ipython",
    "version": 3
   },
   "file_extension": ".py",
   "mimetype": "text/x-python",
   "name": "python",
   "nbconvert_exporter": "python",
   "pygments_lexer": "ipython3",
   "version": "3.11.13"
  }
 },
 "nbformat": 4,
 "nbformat_minor": 5
}
