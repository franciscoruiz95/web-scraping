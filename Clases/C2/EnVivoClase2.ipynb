{
 "cells": [
  {
   "cell_type": "code",
   "execution_count": 1,
   "id": "85406b95",
   "metadata": {},
   "outputs": [
    {
     "name": "stdout",
     "output_type": "stream",
     "text": [
      "Status: 200 | Content-Type: text/html\n",
      "Título del documento: All products | Books to Scrape - Sandbox\n"
     ]
    }
   ],
   "source": [
    "import requests\n",
    "from bs4 import BeautifulSoup\n",
    "\n",
    "URL = \"https://books.toscrape.com/\"\n",
    "r = requests.get(URL, timeout=10)\n",
    "print(\"Status:\", r.status_code, \"| Content-Type:\", r.headers.get(\"Content-Type\"))\n",
    "\n",
    "# Si notas acentos raros, usar apparent_encoding (no siempre es necesario)\n",
    "#r.encoding = r.apparent_encoding or r.encoding\n",
    "\n",
    "soup = BeautifulSoup(r.text, \"html.parser\")\n",
    "print(\"Título del documento:\", soup.title.get_text(strip=True))\n"
   ]
  },
  {
   "cell_type": "code",
   "execution_count": null,
   "id": "895dc481",
   "metadata": {},
   "outputs": [],
   "source": [
    "#soup"
   ]
  }
 ],
 "metadata": {
  "kernelspec": {
   "display_name": "Kernel Estudiante",
   "language": "python",
   "name": "kernel-estudiante"
  },
  "language_info": {
   "codemirror_mode": {
    "name": "ipython",
    "version": 3
   },
   "file_extension": ".py",
   "mimetype": "text/x-python",
   "name": "python",
   "nbconvert_exporter": "python",
   "pygments_lexer": "ipython3",
   "version": "3.12.3"
  }
 },
 "nbformat": 4,
 "nbformat_minor": 5
}
