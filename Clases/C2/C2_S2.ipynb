{
 "cells": [
  {
   "cell_type": "markdown",
   "id": "3fb75707",
   "metadata": {},
   "source": [
    "# C2_S2 · Evaluación — Parseando HTML con BeautifulSoup\n",
    "\n",
    "**Actividad**: `C2_S2` · **Curso**: Web Scraping (Analyt‑IA)"
   ]
  },
  {
   "cell_type": "code",
   "execution_count": null,
   "id": "231789b5",
   "metadata": {},
   "outputs": [
    {
     "name": "stdout",
     "output_type": "stream",
     "text": [
      "Asunto sugerido: WSCRAP-C2_S2-tu_correo@dominio.com-CO\n"
     ]
    }
   ],
   "source": [
    "STUDENT_ID = \"javierrupe19@gmail.com\"\n",
    "COUNTRY    = \"VE\"\n",
    "\n",
    "ACTIVITY_ID  = \"C2_S2\"\n",
    "MAIL_SUBJECT = f\"WSCRAP-{ACTIVITY_ID}-{STUDENT_ID}-{COUNTRY}\"\n",
    "print(\"Asunto sugerido:\", MAIL_SUBJECT)\n"
   ]
  },
  {
   "cell_type": "markdown",
   "id": "e97c2d50",
   "metadata": {},
   "source": [
    "### ✅ Ejercicio (E1)\n",
    "Afirmación: **“Los metadatos y la configuración de la página viven en `<head>`, no en `<body>`.”**\n",
    "\n",
    "Responde `True` o `False`.\n"
   ]
  },
  {
   "cell_type": "code",
   "execution_count": null,
   "id": "89d94df7",
   "metadata": {},
   "outputs": [],
   "source": [
    "# Respuesta del estudiante\n",
    "\n",
    "RESPUESTA = True\n"
   ]
  },
  {
   "cell_type": "code",
   "execution_count": 3,
   "id": "4fa31c7a",
   "metadata": {},
   "outputs": [
    {
     "name": "stdout",
     "output_type": "stream",
     "text": [
      "Resultados: {'E1': True} | SCORE: 1 / 1\n",
      "✅ Archivos generados: grading.json, submission.json\n"
     ]
    }
   ],
   "source": [
    "import json\n",
    "ok = (RESPUESTA is True)\n",
    "\n",
    "RESULTS = {\"E1\": bool(ok)}\n",
    "SCORE   = int(ok)\n",
    "MAX     = 1\n",
    "\n",
    "print(\"Resultados:\", RESULTS, \"| SCORE:\", SCORE, \"/\", MAX)\n",
    "\n",
    "grading = {\"activity_id\": \"C2_S2\", \"student_id\": STUDENT_ID, \"country\": COUNTRY,\n",
    "           \"results\": RESULTS, \"score\": SCORE, \"max\": MAX}\n",
    "submission = {\"activity_id\": \"C2_S2\", \"student_id\": STUDENT_ID, \"country\": COUNTRY,\n",
    "              \"answers\": RESULTS}\n",
    "\n",
    "with open(\"grading.json\",\"w\",encoding=\"utf-8\") as f: json.dump(grading, f, ensure_ascii=False, indent=2)\n",
    "with open(\"submission.json\",\"w\",encoding=\"utf-8\") as f: json.dump(submission, f, ensure_ascii=False, indent=2)\n",
    "print(\"✅ Archivos generados: grading.json, submission.json\")\n"
   ]
  }
 ],
 "metadata": {
  "kernelspec": {
   "display_name": "KernelEstudiante",
   "language": "python",
   "name": "kernelestudiante"
  },
  "language_info": {
   "codemirror_mode": {
    "name": "ipython",
    "version": 3
   },
   "file_extension": ".py",
   "mimetype": "text/x-python",
   "name": "python",
   "nbconvert_exporter": "python",
   "pygments_lexer": "ipython3",
   "version": "3.11.0"
  }
 },
 "nbformat": 4,
 "nbformat_minor": 5
}
