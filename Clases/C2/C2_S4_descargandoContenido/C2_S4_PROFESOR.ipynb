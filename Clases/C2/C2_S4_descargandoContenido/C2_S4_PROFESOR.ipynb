{
 "cells": [
  {
   "cell_type": "markdown",
   "id": "88ddc6b3",
   "metadata": {},
   "source": [
    "# Descargando contenido"
   ]
  },
  {
   "cell_type": "markdown",
   "id": "b3571fe1",
   "metadata": {},
   "source": [
    "## # C2_S4 · Manejo de errores en Requests + BeautifulSoup (Demo profesor)\n",
    "Meta: raise_for_status, timeout+backoff, validar Content-Type/tamaño, arreglar encoding.\n"
   ]
  },
  {
   "cell_type": "markdown",
   "id": "6cad7301",
   "metadata": {},
   "source": [
    "## 🎙️ Guion (12–15 min)\n",
    "0–3’  raise_for_status + política retry/skip/fail  \n",
    "3–7’  timeout + backoff (429 y 5xx)  \n",
    "7–10’ validar Content-Type y tamaño  \n",
    "10–12’ encoding correcto → soup  \n",
    "12–15’ mini-reto Slack"
   ]
  },
  {
   "cell_type": "code",
   "execution_count": 1,
   "id": "09d55f8a",
   "metadata": {},
   "outputs": [],
   "source": [
    "import requests\n",
    "from bs4 import BeautifulSoup\n",
    "\n",
    "import csv\n",
    "import json\n",
    "\n",
    "import time, random"
   ]
  },
  {
   "cell_type": "markdown",
   "id": "da4d7fdc",
   "metadata": {},
   "source": [
    "# Binario o Texto"
   ]
  },
  {
   "cell_type": "markdown",
   "id": "9514b8bd",
   "metadata": {},
   "source": [
    "diferenciar si el contenido que recibes es texto (string) o binario (bytes)."
   ]
  },
  {
   "cell_type": "markdown",
   "id": "4b96634a",
   "metadata": {},
   "source": [
    "Cuando haces requests.get(url) puedes revisar:\n",
    "\n",
    "-> r.text → Devuelve el contenido decodificado como texto (str).\n",
    "\n",
    "-> r.content → Devuelve el contenido crudo en bytes."
   ]
  },
  {
   "cell_type": "code",
   "execution_count": 2,
   "id": "93ed201a",
   "metadata": {},
   "outputs": [
    {
     "name": "stdout",
     "output_type": "stream",
     "text": [
      "<class 'str'>\n",
      "<!DOCTYPE html>\n",
      "<html>\n",
      "  <head>\n",
      "  </head>\n",
      "  <body>\n",
      "      <h1>Herman Melville - Moby-Dick</h1>\n",
      "\n",
      "     \n"
     ]
    }
   ],
   "source": [
    "import requests\n",
    "\n",
    "url = \"https://httpbin.org/html\"\n",
    "r = requests.get(url)\n",
    "\n",
    "print(type(r.text))     # <class 'str'>\n",
    "print(r.text[:100])     # Primeros 200 caracteres del HTML\n"
   ]
  },
  {
   "cell_type": "markdown",
   "id": "66cf9694",
   "metadata": {},
   "source": [
    "👉 Aquí r.text es un string porque la respuesta es HTML (texto).\n",
    "Por eso, si lo quisieras guardar en un archivo, abrirías el archivo con \"w\" (modo texto):"
   ]
  },
  {
   "cell_type": "code",
   "execution_count": 5,
   "id": "a140d37c",
   "metadata": {},
   "outputs": [],
   "source": [
    "with open(\"pagina.html\", \"w\", encoding=\"utf-8\") as f:\n",
    "    f.write(r.text)"
   ]
  },
  {
   "cell_type": "markdown",
   "id": "e17b5674",
   "metadata": {},
   "source": [
    "🚀 Ejemplo sencillo: archivo PDF (binario)"
   ]
  },
  {
   "cell_type": "code",
   "execution_count": 7,
   "id": "88ddfe4d",
   "metadata": {},
   "outputs": [
    {
     "name": "stdout",
     "output_type": "stream",
     "text": [
      "<class 'bytes'>\n",
      "b'%PDF-1.4\\n%\\xc3\\xa4\\xc3\\xbc\\xc3\\xb6\\xc3\\x9f\\n2'\n"
     ]
    }
   ],
   "source": [
    "import requests\n",
    "\n",
    "url = \"https://www.w3.org/WAI/ER/tests/xhtml/testfiles/resources/pdf/dummy.pdf\"\n",
    "r = requests.get(url)\n",
    "\n",
    "print(type(r.content))   # <class 'bytes'>\n",
    "print(r.content[:20])    # Primeros 20 bytes crudos\n"
   ]
  },
  {
   "cell_type": "markdown",
   "id": "02a334cf",
   "metadata": {},
   "source": [
    "👉 Aquí r.content es bytes, porque un PDF no es texto.\n",
    "Entonces necesitas guardar el archivo en modo binario \"wb\":"
   ]
  },
  {
   "cell_type": "markdown",
   "id": "72fb394f",
   "metadata": {},
   "source": [
    "el wb significa:\n",
    "\n",
    "w → write (escritura, abrir el archivo para escribir desde cero, borrando lo anterior).\n",
    "\n",
    "b → binary (modo binario).\n"
   ]
  },
  {
   "cell_type": "code",
   "execution_count": 8,
   "id": "c42cfafd",
   "metadata": {},
   "outputs": [],
   "source": [
    "with open(\"ejemplo.pdf\", \"wb\") as f:\n",
    "    f.write(r.content)\n"
   ]
  },
  {
   "cell_type": "markdown",
   "id": "f89bea8c",
   "metadata": {},
   "source": [
    "# Chunks\n"
   ]
  },
  {
   "cell_type": "markdown",
   "id": "0db44376",
   "metadata": {},
   "source": [
    "![ww](cuhnks.png)"
   ]
  },
  {
   "cell_type": "markdown",
   "id": "10957cc6",
   "metadata": {},
   "source": [
    "🍕 Analogía sencilla:\n",
    "\n",
    "Un archivo es como una pizza entera 🍕.\n",
    "\n",
    "Chunk = cada rebanada que te sirven.\n",
    "\n",
    "Vas guardando rebanada por rebanada en tu plato → al final tienes la pizza completa."
   ]
  },
  {
   "cell_type": "code",
   "execution_count": 9,
   "id": "3395ac90",
   "metadata": {},
   "outputs": [
    {
     "name": "stdout",
     "output_type": "stream",
     "text": [
      "Chunk recibido: 2000 bytes | Total: 2000 bytes\n",
      "Chunk recibido: 2000 bytes | Total: 4000 bytes\n",
      "Chunk recibido: 2000 bytes | Total: 6000 bytes\n",
      "Chunk recibido: 2000 bytes | Total: 8000 bytes\n",
      "Chunk recibido: 2000 bytes | Total: 10000 bytes\n",
      "Chunk recibido: 2000 bytes | Total: 12000 bytes\n",
      "Chunk recibido: 1264 bytes | Total: 13264 bytes\n",
      "✅ Archivo descargado en modo 'chunks'\n"
     ]
    }
   ],
   "source": [
    "import requests\n",
    "\n",
    "url = \"https://www.w3.org/WAI/ER/tests/xhtml/testfiles/resources/pdf/dummy.pdf\"\n",
    "r = requests.get(url, stream=True, timeout=15)\n",
    "\n",
    "tamanio_total = 0\n",
    "\n",
    "with open(\"ejemplo.pdf\", \"wb\") as f:\n",
    "    for chunk in r.iter_content(2000):  # cada chunk = 10 bytes (muy pequeñito a propósito)\n",
    "        if chunk:                     # evita escribir chunks vacíos\n",
    "            f.write(chunk)\n",
    "            tamanio_total += len(chunk)\n",
    "            print(f\"Chunk recibido: {len(chunk)} bytes | Total: {tamanio_total} bytes\")\n",
    "\n",
    "print(\"✅ Archivo descargado en modo 'chunks'\")\n"
   ]
  },
  {
   "cell_type": "markdown",
   "id": "fc63f745",
   "metadata": {},
   "source": [
    "# Nombres de archivo seguros TEMA NO DADO"
   ]
  },
  {
   "cell_type": "markdown",
   "id": "c451a3f1",
   "metadata": {},
   "source": [
    "1) Buscar si el servidor sugiere un nombre\n",
    "Muchos servidores mandan en la cabecera HTTP:"
   ]
  },
  {
   "cell_type": "code",
   "execution_count": 10,
   "id": "7447289c",
   "metadata": {},
   "outputs": [
    {
     "ename": "SyntaxError",
     "evalue": "illegal target for annotation (2483199984.py, line 1)",
     "output_type": "error",
     "traceback": [
      "  \u001b[36mCell\u001b[39m\u001b[36m \u001b[39m\u001b[32mIn[10]\u001b[39m\u001b[32m, line 1\u001b[39m\n\u001b[31m    \u001b[39m\u001b[31mContent-Disposition: attachment; filename=\"reporte.pdf\"\u001b[39m\n    ^\n\u001b[31mSyntaxError\u001b[39m\u001b[31m:\u001b[39m illegal target for annotation\n"
     ]
    }
   ],
   "source": [
    "Content-Disposition: attachment; filename=\"reporte.pdf\"\n"
   ]
  },
  {
   "cell_type": "markdown",
   "id": "00086bf7",
   "metadata": {},
   "source": [
    "Eso significa: el archivo debería llamarse reporte.pdf."
   ]
  },
  {
   "cell_type": "markdown",
   "id": "be2ad72b",
   "metadata": {},
   "source": [
    "2) Si no hay sugerencia → inventar el nombre\n",
    "\n",
    "Lo más fácil es usar el último segmento de la URL.\n"
   ]
  },
  {
   "cell_type": "raw",
   "id": "9638b2f4",
   "metadata": {
    "vscode": {
     "languageId": "raw"
    }
   },
   "source": [
    "https://dominio.com/docs/manual.pdf → manual.pdf\n"
   ]
  },
  {
   "cell_type": "markdown",
   "id": "3ee4dea8",
   "metadata": {},
   "source": [
    "3) Sanitizar (limpiar el nombre)\n",
    "\n",
    "Reemplazar caracteres inválidos por _."
   ]
  },
  {
   "cell_type": "raw",
   "id": "ada9cad3",
   "metadata": {
    "vscode": {
     "languageId": "raw"
    }
   },
   "source": [
    "reporte final:2025?.pdf → reporte_final_2025_.pdf\n"
   ]
  },
  {
   "cell_type": "markdown",
   "id": "ce4388ad",
   "metadata": {},
   "source": [
    "4) Evitar colisiones (archivos repetidos)\n",
    "\n",
    "Si ya existe manual.pdf en la carpeta, se debe guardar así:"
   ]
  },
  {
   "cell_type": "raw",
   "id": "009ab5c5",
   "metadata": {
    "vscode": {
     "languageId": "raw"
    }
   },
   "source": [
    "manual(1).pdf\n",
    "\n",
    "manual(2).pdf\n",
    "\n",
    "etc."
   ]
  },
  {
   "cell_type": "markdown",
   "id": "d7d030df",
   "metadata": {},
   "source": [
    "👨‍💻 Ejemplo Python (simple)"
   ]
  },
  {
   "cell_type": "code",
   "execution_count": 13,
   "id": "a867a26a",
   "metadata": {},
   "outputs": [
    {
     "name": "stdout",
     "output_type": "stream",
     "text": [
      "Nombre final: downloads/dummy.pdf\n",
      "✅ Archivo descargado: downloads/dummy.pdf\n"
     ]
    }
   ],
   "source": [
    "import os\n",
    "import requests\n",
    "from urllib.parse import urlparse\n",
    "\n",
    "def nombre_archivo_seguro(url, response, carpeta=\"downloads\"):\n",
    "\n",
    "    # 1. Intentar usar Content-Disposition\n",
    "    cd = response.headers.get(\"Content-Disposition\", \"\")\n",
    "    if \"filename=\" in cd:\n",
    "        nombre = cd.split(\"filename=\")[-1].strip('\" ')\n",
    "    else:\n",
    "        # 2. Usar último segmento de la URL\n",
    "        nombre = os.path.basename(urlparse(url).path) or \"descarga\"\n",
    "\n",
    "    # 3. Sanitizar (permitir solo letras, números, ., _, -)\n",
    "    nombre = \"\".join(c if c.isalnum() or c in \"._-\" else \"_\" for c in nombre)\n",
    "\n",
    "    # 4. Evitar colisiones\n",
    "    base, ext = os.path.splitext(nombre)\n",
    "    contador = 1\n",
    "    while os.path.exists(os.path.join(carpeta, nombre)):\n",
    "        nombre = f\"{base}({contador}){ext}\"\n",
    "        contador += 1\n",
    "\n",
    "    return os.path.join(carpeta, nombre)\n",
    "\n",
    "# =========================\n",
    "# EJEMPLO DE USO\n",
    "# =========================\n",
    "url = \"https://www.w3.org/WAI/ER/tests/xhtml/testfiles/resources/pdf/dummy.pdf\"\n",
    "r = requests.get(url, stream=True, timeout=10)\n",
    "\n",
    "nombre = nombre_archivo_seguro(url, r)\n",
    "print(\"Nombre final:\", nombre)\n",
    "\n",
    "# 👇 Aquí GUARDAR el archivo\n",
    "with open(nombre, \"wb\") as f:\n",
    "    for chunk in r.iter_content(4096):\n",
    "        if chunk:\n",
    "            f.write(chunk)\n",
    "\n",
    "print(\"✅ Archivo descargado:\", nombre)\n"
   ]
  },
  {
   "cell_type": "markdown",
   "id": "8d6d2ca4",
   "metadata": {},
   "source": [
    "# Formatos de guardado\n"
   ]
  },
  {
   "cell_type": "markdown",
   "id": "05c0e43e",
   "metadata": {},
   "source": [
    "📂 Guardar como CSV"
   ]
  },
  {
   "cell_type": "code",
   "execution_count": 24,
   "id": "3724d577",
   "metadata": {},
   "outputs": [],
   "source": [
    "import csv\n",
    "\n",
    "def guardar_csv(product_list, archivo=\"resultados/productos.csv\"):\n",
    "    with open(archivo, \"w\", newline=\"\", encoding=\"utf-8\") as f:\n",
    "        writer = csv.DictWriter(f, fieldnames=[\"title\", \"price\", \"image_url\"])\n",
    "        writer.writeheader()\n",
    "        writer.writerows(product_list)\n",
    "\n",
    "    print(f\"✅ Guardado en CSV: {len(product_list)} productos en {archivo}\")\n"
   ]
  },
  {
   "cell_type": "markdown",
   "id": "3900a523",
   "metadata": {},
   "source": [
    "📂 Guardar como JSON"
   ]
  },
  {
   "cell_type": "code",
   "execution_count": 25,
   "id": "cc10a0e2",
   "metadata": {},
   "outputs": [],
   "source": [
    "import json\n",
    "\n",
    "def guardar_json(product_list, archivo=\"resultados/productos.json\"):\n",
    "    with open(archivo, \"w\", encoding=\"utf-8\") as f:\n",
    "        json.dump(product_list, f, indent=4, ensure_ascii=False)\n",
    "\n",
    "    print(f\"✅ Guardado en JSON: {len(product_list)} productos en {archivo}\")"
   ]
  },
  {
   "cell_type": "markdown",
   "id": "bb5618d6",
   "metadata": {},
   "source": [
    "📂 Guardar como Excel"
   ]
  },
  {
   "cell_type": "code",
   "execution_count": 26,
   "id": "c4842378",
   "metadata": {},
   "outputs": [],
   "source": [
    "import pandas as pd\n",
    "\n",
    "def guardar_excel(product_list, archivo=\"resultados/productos.xlsx\"):\n",
    "    df = pd.DataFrame(product_list)\n",
    "    df.to_excel(archivo, index=False)\n",
    "\n",
    "    print(f\"✅ Guardado en Excel: {len(product_list)} productos en {archivo}\")\n"
   ]
  },
  {
   "cell_type": "markdown",
   "id": "b8a08e00",
   "metadata": {},
   "source": [
    "🚀 Ejemplo de uso rápido"
   ]
  },
  {
   "cell_type": "code",
   "execution_count": 28,
   "id": "1dbf83d0",
   "metadata": {},
   "outputs": [
    {
     "name": "stdout",
     "output_type": "stream",
     "text": [
      "✅ Guardado en CSV: 2 productos en resultados/productos.csv\n",
      "✅ Guardado en JSON: 2 productos en resultados/productos.json\n",
      "✅ Guardado en Excel: 2 productos en resultados/productos.xlsx\n"
     ]
    }
   ],
   "source": [
    "# Supongamos que tienes algo como:\n",
    "product_list = [\n",
    "    {\"title\": \"Libro A\", \"price\": \"10.99\", \"image_url\": \"http://.../a.jpg\"},\n",
    "    {\"title\": \"Libro B\", \"price\": \"12.50\", \"image_url\": \"http://.../b.jpg\"},\n",
    "]\n",
    "\n",
    "guardar_csv(product_list)\n",
    "guardar_json(product_list)\n",
    "guardar_excel(product_list)\n"
   ]
  }
 ],
 "metadata": {
  "kernelspec": {
   "display_name": "Kernel Estudiante",
   "language": "python",
   "name": "kernel-estudiante"
  },
  "language_info": {
   "codemirror_mode": {
    "name": "ipython",
    "version": 3
   },
   "file_extension": ".py",
   "mimetype": "text/x-python",
   "name": "python",
   "nbconvert_exporter": "python",
   "pygments_lexer": "ipython3",
   "version": "3.12.3"
  }
 },
 "nbformat": 4,
 "nbformat_minor": 5
}
