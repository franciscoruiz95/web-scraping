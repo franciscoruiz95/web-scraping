{
 "cells": [
  {
   "cell_type": "markdown",
   "id": "beabbbfb",
   "metadata": {},
   "source": [
    "# Manejo de errores"
   ]
  },
  {
   "cell_type": "markdown",
   "id": "d192f8d5",
   "metadata": {},
   "source": [
    "## # C2_S3 · Manejo de errores en Requests + BeautifulSoup (Demo profesor)\n",
    "Meta: raise_for_status, timeout+backoff, validar Content-Type/tamaño, arreglar encoding.\n"
   ]
  },
  {
   "cell_type": "markdown",
   "id": "b271f63d",
   "metadata": {},
   "source": [
    "## 🎙️ Guion (12–15 min)\n",
    "0–3’  raise_for_status + política retry/skip/fail  \n",
    "3–7’  timeout + backoff (429 y 5xx)  \n",
    "7–10’ validar Content-Type y tamaño  \n",
    "10–12’ encoding correcto → soup  \n",
    "12–15’ mini-reto Slack\n"
   ]
  },
  {
   "cell_type": "code",
   "execution_count": 2,
   "id": "1fc63b4f",
   "metadata": {},
   "outputs": [],
   "source": [
    "import requests\n",
    "from bs4 import BeautifulSoup\n",
    "\n",
    "import csv\n",
    "import json\n",
    "\n",
    "import time, random"
   ]
  },
  {
   "cell_type": "markdown",
   "id": "d5eff8a6",
   "metadata": {},
   "source": [
    "## 1) Función para procesar un producto"
   ]
  },
  {
   "cell_type": "markdown",
   "id": "74ef3ec4",
   "metadata": {},
   "source": [
    "#### Recordar ejemplo función que procesa un producto"
   ]
  },
  {
   "cell_type": "code",
   "execution_count": 3,
   "id": "ed7acb49",
   "metadata": {},
   "outputs": [],
   "source": [
    "from urllib.parse import urljoin\n",
    "\n",
    "BASE = \"http://books.toscrape.com/\"\n",
    "\n",
    "def extraer_producto(product):\n",
    "    \"\"\"Recibe un artículo <article.product_pod> y devuelve sus datos en un diccionario.\"\"\"\n",
    "    # Nombre del libro (con protección contra None)\n",
    "    h3 = product.find(\"h3\")\n",
    "    a_tag = h3.find(\"a\") if h3 else None\n",
    "    title = a_tag[\"title\"] if a_tag else \"Título no encontrado\"\n",
    "\n",
    "    # Precio\n",
    "    price_tag = product.find(\"p\", class_=\"price_color\")\n",
    "    price = price_tag.get_text() if price_tag else \"Precio no encontrado\"\n",
    "\n",
    "    # Imagen (url relativa → absoluta con urljoin)\n",
    "    img_tag = product.find(\"div\", class_=\"image_container\").find(\"img\")\n",
    "    image_rel = img_tag[\"src\"] if img_tag else \"\"\n",
    "    image_url = urljoin(BASE, image_rel)\n",
    "\n",
    "    return {\"title\": title, \"price\": price, \"image_url\": image_url}\n"
   ]
  },
  {
   "cell_type": "markdown",
   "id": "61296124",
   "metadata": {},
   "source": [
    "## 2) Función para recorrer páginas (paginación)"
   ]
  },
  {
   "cell_type": "markdown",
   "id": "8534f247",
   "metadata": {},
   "source": [
    "Aquí usamos la función anterior dentro de un bucle:"
   ]
  },
  {
   "cell_type": "markdown",
   "id": "bb333a83",
   "metadata": {},
   "source": [
    "El {} es un marcador de posición. Es un espacio que se llenará más tarde con el número de página que quieres visitar. "
   ]
  },
  {
   "cell_type": "code",
   "execution_count": 5,
   "id": "ed34a956",
   "metadata": {},
   "outputs": [
    {
     "name": "stdout",
     "output_type": "stream",
     "text": [
      "✅ Página 47 procesada (20 productos).\n",
      "✅ Página 48 procesada (20 productos).\n",
      "✅ Página 49 procesada (20 productos).\n",
      "✅ Página 50 procesada (20 productos).\n",
      "✅ Página 51 procesada (0 productos).\n",
      "✅ Página 52 procesada (0 productos).\n"
     ]
    }
   ],
   "source": [
    "import requests, time\n",
    "from bs4 import BeautifulSoup\n",
    "\n",
    "BASE_URL = \"http://books.toscrape.com/catalogue/category/books_1/page-{}.html\"\n",
    "\n",
    "\n",
    "product_list = []\n",
    "\n",
    "#for page in range(1, n_paginas + 1):\n",
    "for page in range(47,53):   # Recordar que la paginación está solamente hasta la página 50 \n",
    "    url = BASE_URL.format(page)\n",
    "\n",
    "    response = requests.get(url, timeout=10)\n",
    "    soup = BeautifulSoup(response.text, \"html.parser\")\n",
    "    products = soup.select(\"article.product_pod\")\n",
    "\n",
    "\n",
    "    for product in products:\n",
    "        datos = extraer_producto(product)\n",
    "        product_list.append(datos)\n",
    "\n",
    "    time.sleep(1)  # pausa entre páginas # No saturar el servidor y que sea dinámica la forma en que se escrapea\n",
    "    print(f\"✅ Página {page} procesada ({len(products)} productos).\")\n",
    "\n",
    "\n"
   ]
  },
  {
   "cell_type": "markdown",
   "id": "1e587ec4",
   "metadata": {},
   "source": [
    "#### También al extraer datos de un producto, se puede hacer exepciones por si no encuentra cualquiera de los atributos en ese bucle"
   ]
  },
  {
   "cell_type": "code",
   "execution_count": 6,
   "id": "18b70781",
   "metadata": {},
   "outputs": [
    {
     "name": "stdout",
     "output_type": "stream",
     "text": [
      "✅ Página 47 procesada (20 productos).\n",
      "✅ Página 48 procesada (20 productos).\n",
      "✅ Página 49 procesada (20 productos).\n",
      "✅ Página 50 procesada (20 productos).\n",
      "❌ Error en la página 51: 404 Client Error: Not Found for url: http://books.toscrape.com/catalogue/category/books_1/page-51.html\n",
      "❌ Error en la página 52: 404 Client Error: Not Found for url: http://books.toscrape.com/catalogue/category/books_1/page-52.html\n"
     ]
    }
   ],
   "source": [
    "import requests, time\n",
    "from bs4 import BeautifulSoup\n",
    "\n",
    "BASE_URL = \"http://books.toscrape.com/catalogue/category/books_1/page-{}.html\"\n",
    "\n",
    "\n",
    "product_list = []\n",
    "\n",
    "#for page in range(1, n_paginas + 1):\n",
    "for page in range(47,53):   # Recordar que la paginación está solamente hasta la página 50 \n",
    "    url = BASE_URL.format(page)\n",
    "    try:\n",
    "        response = requests.get(url, timeout=10)\n",
    "        response.raise_for_status() #<-  Si aparece une error para código s 4xx y 5xx\n",
    "        soup = BeautifulSoup(response.text, \"html.parser\")\n",
    "        products = soup.select(\"article.product_pod\")\n",
    "    except Exception as e:\n",
    "        print(f\"❌ Error en la página {page}: {e}\")\n",
    "        continue\n",
    "\n",
    "    for product in products:\n",
    "        try:\n",
    "            datos = extraer_producto(product)\n",
    "            product_list.append(datos)\n",
    "        except Exception as ex:\n",
    "            print(\"Error extrayendo datos de un producto:\", ex)\n",
    "\n",
    "    time.sleep(1)  # pausa entre páginas\n",
    "    print(f\"✅ Página {page} procesada ({len(products)} productos).\")\n",
    "\n",
    "\n"
   ]
  },
  {
   "cell_type": "markdown",
   "id": "c77e4cb3",
   "metadata": {},
   "source": [
    "#### Guardar datos"
   ]
  },
  {
   "cell_type": "code",
   "execution_count": 7,
   "id": "0fdf91d9",
   "metadata": {},
   "outputs": [
    {
     "name": "stdout",
     "output_type": "stream",
     "text": [
      "Scraping ético completado: 80 productos guardados en productos_con_manejo_errores.csv\n"
     ]
    }
   ],
   "source": [
    "import csv\n",
    "\n",
    "archivo = \"productos_con_manejo_errores.csv\"\n",
    "\n",
    "with open(archivo, \"w\", newline=\"\", encoding=\"utf-8\") as f:\n",
    "    # Definir el \"esqueleto\" del CSV\n",
    "    writer = csv.DictWriter(f, fieldnames=[\"title\", \"price\", \"image_url\"])\n",
    "    \n",
    "    # Escribir los encabezados\n",
    "    writer.writeheader()\n",
    "    \n",
    "    # Escribir cada producto\n",
    "    writer.writerows(product_list)\n",
    "\n",
    "print(f\"Scraping ético completado: {len(product_list)} productos guardados en {archivo}\")\n",
    "\n"
   ]
  },
  {
   "cell_type": "markdown",
   "id": "4d16b356",
   "metadata": {},
   "source": [
    "# Stop"
   ]
  },
  {
   "cell_type": "markdown",
   "id": "5298f074",
   "metadata": {},
   "source": [
    "#### aplicación directa de la política de timeouts + reintentos con backoff."
   ]
  },
  {
   "cell_type": "markdown",
   "id": "7e643b0a",
   "metadata": {},
   "source": [
    "#### 1. Timeout siempre"
   ]
  },
  {
   "cell_type": "code",
   "execution_count": 10,
   "id": "e82c06cd",
   "metadata": {},
   "outputs": [],
   "source": [
    "timeout  = 0.1\n",
    "r = requests.get(url, timeout=timeout)"
   ]
  },
  {
   "cell_type": "markdown",
   "id": "77cc6a97",
   "metadata": {},
   "source": [
    "#### 2. Backoff exponencial + jitter"
   ]
  },
  {
   "cell_type": "markdown",
   "id": "8f8bf06e",
   "metadata": {},
   "source": [
    "👉 Si falla:\n",
    "\n",
    "Primer reintento: espera ≈ 1s + pequeño jitter.\n",
    "\n",
    "Segundo reintento: ≈ 2s + jitter.\n",
    "\n",
    "Tercero: ≈ 4s + jitter.\n",
    "\n",
    "El random.uniform(0, 0.3) evita que muchos clientes reintenten al mismo tiempo (efecto estampida)."
   ]
  },
  {
   "cell_type": "code",
   "execution_count": 15,
   "id": "30cd7b15",
   "metadata": {},
   "outputs": [
    {
     "data": {
      "text/plain": [
       "4.114933094595319"
      ]
     },
     "execution_count": 15,
     "metadata": {},
     "output_type": "execute_result"
    }
   ],
   "source": [
    "base_delay = 1  # segundos\n",
    "attempt = 3\n",
    "wait = base_delay * (2 ** (attempt - 1)) + random.uniform(0, 0.3)\n",
    "\n",
    "wait\n"
   ]
  },
  {
   "cell_type": "markdown",
   "id": "72447812",
   "metadata": {},
   "source": [
    "👉 Si el servidor dice explícitamente “espera X segundos”, tú obedeces.\n",
    "Esto es crucial con errores 429 Too Many Requests."
   ]
  },
  {
   "cell_type": "markdown",
   "id": "3a13d883",
   "metadata": {},
   "source": [
    "#### 3. Respeto a Retry-After"
   ]
  },
  {
   "cell_type": "code",
   "execution_count": 17,
   "id": "e362155d",
   "metadata": {},
   "outputs": [
    {
     "name": "stdout",
     "output_type": "stream",
     "text": [
      "Esperando 4.11 segundos antes de reintentar...\n"
     ]
    }
   ],
   "source": [
    "ra = r.headers.get(\"Retry-After\")\n",
    "if ra:\n",
    "    wait = float(ra)\n",
    "\n",
    "print(f\"Esperando {wait:.2f} segundos antes de reintentar...\")"
   ]
  },
  {
   "cell_type": "markdown",
   "id": "fa191314",
   "metadata": {},
   "source": [
    "#### 4. Funciones de apoyo"
   ]
  },
  {
   "cell_type": "markdown",
   "id": "34e6a0bd",
   "metadata": {},
   "source": [
    "\n",
    "\n",
    "should_retry(status): define qué códigos son reintentarbles → 429 o 5xx.\n",
    "\n",
    "is_html(resp): sirve como filtro, asegurando que recibes HTML y no una página de error o PDF (aunque en este snippet no lo llamaste, está listo por si lo quieres usar)."
   ]
  },
  {
   "cell_type": "markdown",
   "id": "6dbda2c6",
   "metadata": {},
   "source": [
    "#### 5. Lógica final"
   ]
  },
  {
   "cell_type": "markdown",
   "id": "dda22406",
   "metadata": {},
   "source": [
    "\n",
    "\n",
    "Intenta hasta max_attempts.\n",
    "\n",
    "Si consigue 200 OK, devuelve la respuesta.\n",
    "\n",
    "Si es un error 5xx o 429, aplica backoff y reintenta.\n",
    "\n",
    "Si es otro 4xx (404, 403…), no reintenta y hace raise_for_status().\n",
    "\n",
    "Si después de todos los intentos falla → lanza la última excepción."
   ]
  },
  {
   "cell_type": "code",
   "execution_count": 27,
   "id": "17f0455d",
   "metadata": {},
   "outputs": [],
   "source": [
    "import time, random\n",
    "import requests\n",
    "from bs4 import BeautifulSoup\n",
    "\n",
    "def should_retry(status):\n",
    "    return (status == 429) or (500 <= status < 600)\n",
    "\n",
    "def fetch_with_policy(url, max_attempts=3, base_delay=1.0, timeout=10):\n",
    "    \"\"\"GET con timeout, raise_for_status, backoff y respeto de Retry-After.\"\"\"\n",
    "    attempt, total_wait = 0, 0.0\n",
    "    last_exc = None\n",
    "    while attempt < max_attempts:\n",
    "        attempt += 1\n",
    "        t0 = time.time()\n",
    "        try:\n",
    "            r = requests.get(url, timeout=timeout)\n",
    "            dt = (time.time() - t0) * 1000\n",
    "            print(f\"[{attempt}] {r.status_code} {dt:.0f}ms {url}\")\n",
    "            if r.status_code == 200:\n",
    "                return r\n",
    "            if should_retry(r.status_code):\n",
    "                ra = r.headers.get(\"Retry-After\")\n",
    "                if ra:\n",
    "                    wait = float(ra)\n",
    "                else:\n",
    "                    wait = base_delay * (2 ** (attempt - 1)) + random.uniform(0, 0.3)\n",
    "                print(f\"  ↳ retry en {wait:.1f}s\")\n",
    "                time.sleep(wait)\n",
    "                total_wait += wait\n",
    "                continue\n",
    "            # 4xx u otros → no reintentar\n",
    "            r.raise_for_status()\n",
    "        except requests.RequestException as e:\n",
    "            last_exc = e\n",
    "            print(f\"  ⚠️ excepción: {e}\")\n",
    "            wait = base_delay * (2 ** (attempt - 1)) + random.uniform(0, 0.3)\n",
    "            print(f\"  ↳ retry en {wait:.1f}s\")\n",
    "            time.sleep(wait)\n",
    "            total_wait += wait\n",
    "    raise last_exc or RuntimeError(\"Max reintentos agotados\")\n"
   ]
  },
  {
   "cell_type": "markdown",
   "id": "8b37d688",
   "metadata": {},
   "source": [
    "🫡 Este ejemplo ilustra perfecto la regla de oro:\n",
    "“Lento es suave, y suave es rápido”: mejor reintentar con calma que martillar el servidor."
   ]
  },
  {
   "cell_type": "code",
   "execution_count": 25,
   "id": "1c36d43d",
   "metadata": {},
   "outputs": [
    {
     "name": "stdout",
     "output_type": "stream",
     "text": [
      "[1] 500 505ms https://httpbin.org/status/500\n",
      "  ↳ retry en 1.1s\n",
      "[2] 500 369ms https://httpbin.org/status/500\n",
      "  ↳ retry en 2.0s\n",
      "[3] 500 357ms https://httpbin.org/status/500\n",
      "  ↳ retry en 4.2s\n",
      "Falló después de reintentos: Max reintentos agotados\n"
     ]
    }
   ],
   "source": [
    "url = \"https://httpbin.org/status/500\"\n",
    "try:\n",
    "    fetch_with_policy(url, max_attempts=3)\n",
    "except Exception as e:\n",
    "    print(\"Falló después de reintentos:\", e)\n"
   ]
  },
  {
   "cell_type": "markdown",
   "id": "58b92220",
   "metadata": {},
   "source": [
    "👉 Qué harás: verás `raise_for_status()` en acción con 404 y 500, y un 429 con `Retry-After`.\n"
   ]
  },
  {
   "cell_type": "code",
   "execution_count": 29,
   "id": "f8c8585b",
   "metadata": {},
   "outputs": [
    {
     "name": "stdout",
     "output_type": "stream",
     "text": [
      "404 atrapado: 404 Client Error: NOT FOUND for url: https://httpbin.org/status/404\n",
      "[1] 500 354ms https://httpbin.org/status/500\n",
      "  ↳ retry en 1.2s\n",
      "[2] 500 361ms https://httpbin.org/status/500\n",
      "  ↳ retry en 2.1s\n",
      "[3] 500 577ms https://httpbin.org/status/500\n",
      "  ↳ retry en 4.2s\n",
      "Tras 3 intentos de 500: Max reintentos agotados\n",
      "[1] 200 355ms https://httpbin.org/response-headers?Retry-After=3&status=429\n"
     ]
    }
   ],
   "source": [
    "# 404 → corta rápido\n",
    "try:\n",
    "    # _ = fetch_with_policy(\"https://httpbin.org/status/404\", timeout=5)\n",
    "    r = requests.get(\"https://httpbin.org/status/404\", timeout=5)\n",
    "    r.raise_for_status()\n",
    "except requests.HTTPError as e:\n",
    "    print(\"404 atrapado:\", e)\n",
    "\n",
    "# 500 → backoff (reintentos)\n",
    "try:\n",
    "    _ = fetch_with_policy(\"https://httpbin.org/status/500\", max_attempts=3, base_delay=1)\n",
    "except Exception as e:\n",
    "    print(\"Tras 3 intentos de 500:\", e)\n",
    "\n",
    "# 429 con Retry-After\n",
    "try:\n",
    "    _ = fetch_with_policy(\"https://httpbin.org/response-headers?Retry-After=3&status=429\",\n",
    "                          max_attempts=2, base_delay=1)\n",
    "except Exception as e:\n",
    "    print(\"429 finalizó:\", e)\n"
   ]
  },
  {
   "cell_type": "markdown",
   "id": "c336044a",
   "metadata": {},
   "source": [
    "#### Content-Type y el tamaño antes de meter el contenido a BeautifulSoup"
   ]
  },
  {
   "cell_type": "markdown",
   "id": "db3fe358",
   "metadata": {},
   "source": [
    "![s](contenType2.png)"
   ]
  },
  {
   "cell_type": "markdown",
   "id": "8993f019",
   "metadata": {},
   "source": [
    "👉 Qué harás: validarás Content-Type y tamaño antes de parsear.\n"
   ]
  },
  {
   "cell_type": "code",
   "execution_count": 31,
   "id": "c78efe9c",
   "metadata": {},
   "outputs": [],
   "source": [
    "#ct = content Type\n",
    "\n",
    "def is_html(resp, min_len=150):\n",
    "    ct = (resp.headers.get(\"Content-Type\") or \"\").lower()\n",
    "    return (\"html\" in ct) and (len(resp.content) >= min_len)"
   ]
  },
  {
   "cell_type": "code",
   "execution_count": 32,
   "id": "01cf6895",
   "metadata": {},
   "outputs": [
    {
     "name": "stdout",
     "output_type": "stream",
     "text": [
      "HTML válido? True text/html; charset=utf-8\n",
      "HTML válido? False application/json\n",
      "HTML válido? False application/octet-stream\n"
     ]
    }
   ],
   "source": [
    "# HTML válido\n",
    "r_html = requests.get(\"https://httpbin.org/html\", timeout=10)\n",
    "print(\"HTML válido?\", is_html(r_html, min_len=120), r_html.headers.get(\"Content-Type\"))\n",
    "\n",
    "# JSON (no HTML)\n",
    "r_json = requests.get(\"https://httpbin.org/json\", timeout=10)\n",
    "print(\"HTML válido?\", is_html(r_json, min_len=120), r_json.headers.get(\"Content-Type\"))\n",
    "\n",
    "# Bytes pequeños (contenido diminuto)\n",
    "r_bytes = requests.get(\"https://httpbin.org/bytes/50\", timeout=10)\n",
    "print(\"HTML válido?\", is_html(r_bytes, min_len=120), r_bytes.headers.get(\"Content-Type\"))\n"
   ]
  },
  {
   "cell_type": "code",
   "execution_count": 36,
   "id": "08bb7624",
   "metadata": {},
   "outputs": [
    {
     "name": "stdout",
     "output_type": "stream",
     "text": [
      "Título de la página https://books.toscrape.com/: All products | Books to Scrape - Sandbox\n",
      "❌ Saltado: Content-Type no es HTML (application/json)\n"
     ]
    }
   ],
   "source": [
    "import requests\n",
    "from bs4 import BeautifulSoup\n",
    "\n",
    "def fetch_html(url, timeout=10, min_len=200):\n",
    "    \"\"\"Descarga y valida que la respuesta sea HTML suficiente antes de parsear.\"\"\"\n",
    "    r = requests.get(url, timeout=timeout)\n",
    "    r.raise_for_status()\n",
    "\n",
    "    # Validar Content-Type\n",
    "    ct = (r.headers.get(\"Content-Type\") or \"\").lower()\n",
    "    if \"html\" not in ct:\n",
    "        print(f\"❌ Saltado: Content-Type no es HTML ({ct})\")\n",
    "        return None\n",
    "\n",
    "    # Validar tamaño mínimo\n",
    "    if len(r.content) < min_len:\n",
    "        print(f\"❌ Saltado: respuesta demasiado pequeña ({len(r.content)} bytes)\")\n",
    "        return None\n",
    "\n",
    "    # Opcional: centinelas de bloqueo\n",
    "    texto = r.text.lower()\n",
    "    if \"access denied\" in texto or \"captcha\" in texto:\n",
    "        print(\"❌ Saltado: parece un bloqueo/captcha\")\n",
    "        return None\n",
    "\n",
    "    return BeautifulSoup(r.text, \"html.parser\")\n",
    "\n",
    "# === Ejemplo de uso ===\n",
    "url = \"https://books.toscrape.com/\"\n",
    "soup = fetch_html(url)\n",
    "\n",
    "if soup:\n",
    "    print(f\"Título de la página {url}:\", soup.title.get_text(strip=True))\n",
    "\n",
    "url = \"https://httpbin.org/json\"\n",
    "soup = fetch_html(url)\n",
    "\n",
    "if soup:\n",
    "    print(\"Título de la página:\", soup.title.get_text(strip=True))\n"
   ]
  },
  {
   "cell_type": "markdown",
   "id": "7ba7ef6b",
   "metadata": {},
   "source": [
    "#### Buscar palabras clave / centinelas"
   ]
  },
  {
   "cell_type": "markdown",
   "id": "a4c56d2c",
   "metadata": {},
   "source": [
    "🔹 Ejemplo práctico 1 (ver qué devuelve un sitio)"
   ]
  },
  {
   "cell_type": "code",
   "execution_count": 37,
   "id": "d54c7410",
   "metadata": {},
   "outputs": [
    {
     "name": "stdout",
     "output_type": "stream",
     "text": [
      "<!DOCTYPE html>\n",
      "<html>\n",
      "  <head>\n",
      "  </head>\n",
      "  <body>\n",
      "      <h1>Herman Melville - Moby-Dick</h1>\n",
      "\n",
      "      <div>\n",
      "        <p>\n",
      "          Availing himself of the mild, summer-cool weather that now reigned in t\n"
     ]
    }
   ],
   "source": [
    "import requests\n",
    "\n",
    "r = requests.get(\"https://httpbin.org/html\")\n",
    "print(r.text[:200])  # mostramos solo los primeros 200 caracteres\n"
   ]
  },
  {
   "cell_type": "code",
   "execution_count": 38,
   "id": "90a793fb",
   "metadata": {},
   "outputs": [
    {
     "name": "stdout",
     "output_type": "stream",
     "text": [
      "Esta página tiene etiqueta <head>\n"
     ]
    }
   ],
   "source": [
    "if \"<head>\" in r.text.lower():\n",
    "    print(\"Esta página tiene etiqueta <head>\")\n",
    "else:\n",
    "    print(\"No tiene etiqueta <head>\")\n"
   ]
  },
  {
   "cell_type": "markdown",
   "id": "56bd424d",
   "metadata": {},
   "source": [
    "🌐 Contexto\n",
    "\n",
    "Cuando scrapeas, a veces el servidor no devuelve lo que esperas.\n",
    "En lugar de la página HTML normal, puedes recibir:\n",
    "\n",
    "Un captcha (te pide resolver un puzzle para seguir).\n",
    "\n",
    "Un mensaje de Access Denied / Forbidden / Blocked.\n",
    "\n",
    "Una redirección a una página de login.\n",
    "\n",
    "Aunque el Content-Type sea text/html, el contenido no sirve para tu análisis.\n",
    "\n",
    "🕵️‍♂️ ¿Cómo detectarlo?\n",
    "\n",
    "La idea es buscar palabras clave (centinelas) dentro del r.text.\n",
    "Ejemplo clásico:\n",
    "\n",
    "\"access denied\"\n",
    "\n",
    "\"forbidden\"\n",
    "\n",
    "\"captcha\"\n",
    "\n",
    "\"verify you are human\"\n",
    "\n",
    "\"cloudflare\" (a veces aparece cuando Cloudflare bloquea).\n",
    "\n",
    "Estas frases funcionan como centinelas → si aparecen, sabemos que no es la página normal.\n",
    "\n",
    "⚡ Ejemplo práctico"
   ]
  },
  {
   "cell_type": "code",
   "execution_count": 39,
   "id": "f6b10454",
   "metadata": {},
   "outputs": [
    {
     "name": "stdout",
     "output_type": "stream",
     "text": [
      "✅ Página normal recibida\n",
      "\n",
      "HTML recibido (corto):\n",
      " <!doctype html>\n",
      "<html>\n",
      "  <head>\n",
      "  </head>\n",
      "  <body>\n",
      "      <h1>herman melville - moby-dick</h1>\n",
      "\n",
      "      <div>\n",
      "        <p>\n",
      "          availing himself of the mild, summer-cool weather that now reigned in t\n"
     ]
    }
   ],
   "source": [
    "import requests\n",
    "\n",
    "url = \"https://httpbin.org/html\"\n",
    "r = requests.get(url)\n",
    "\n",
    "# Pasamos todo a minúsculas para que no importe \"Captcha\" o \"captcha\"\n",
    "texto = r.text.lower()\n",
    "\n",
    "# Lista de palabras clave típicas de bloqueo\n",
    "centinelas = [\"access denied\", \"forbidden\", \"captcha\", \"verify you are human\"]\n",
    "\n",
    "# Verificamos si alguna aparece en el HTML\n",
    "if any(c in texto for c in centinelas):\n",
    "    print(\"❌ Página bloqueada o protegida\")\n",
    "else:\n",
    "    print(\"✅ Página normal recibida\")\n",
    "\n",
    "# Para verlo mejor, mostramos los primeros 200 caracteres del HTML\n",
    "print(\"\\nHTML recibido (corto):\\n\", texto[:200])\n",
    "\n"
   ]
  },
  {
   "cell_type": "markdown",
   "id": "aa39aeb0",
   "metadata": {},
   "source": [
    "# 👉 Qué harás: forzar un encoding incorrecto y corregir con `apparent_encoding`."
   ]
  },
  {
   "cell_type": "markdown",
   "id": "f77b2c98",
   "metadata": {},
   "source": [
    "![ss](encoding.png)"
   ]
  },
  {
   "cell_type": "markdown",
   "id": "3d8dfa3a",
   "metadata": {},
   "source": [
    "Ese \"Ã±\" es el típico síntoma de que alguien leyó UTF-8 como Latin-1."
   ]
  },
  {
   "cell_type": "code",
   "execution_count": 41,
   "id": "4f9f1d84",
   "metadata": {},
   "outputs": [
    {
     "name": "stdout",
     "output_type": "stream",
     "text": [
      "❌ Texto roto (mal decodificado): EspaÃ±a, MÃ©xico, seÃ±orita\n",
      "✅ Texto correcto (decodificado bien): España, México, señorita\n"
     ]
    }
   ],
   "source": [
    "import requests\n",
    "\n",
    "# Simulamos un contenido en UTF-8 pero mal declarado\n",
    "mal_contenido = \"España, México, señorita\".encode(\"utf-8\")  \n",
    "\n",
    "# El servidor \"dice\" que esto es Latin-1 (mal)\n",
    "texto_mal = mal_contenido.decode(\"latin-1\")  \n",
    "\n",
    "print(\"❌ Texto roto (mal decodificado):\", texto_mal)\n",
    "\n",
    "# Si forzamos a usar utf-8 → lo reparamos\n",
    "texto_bien = mal_contenido.decode(\"utf-8\")  \n",
    "\n",
    "print(\"✅ Texto correcto (decodificado bien):\", texto_bien)\n"
   ]
  },
  {
   "cell_type": "code",
   "execution_count": 43,
   "id": "7a984e1d",
   "metadata": {},
   "outputs": [
    {
     "name": "stdout",
     "output_type": "stream",
     "text": [
      "ISO-8859-1\n",
      "utf-8\n"
     ]
    }
   ],
   "source": [
    "\n",
    "#¿Cómo funciona el or en Python?\n",
    "\n",
    "#En Python, A or B devuelve el primer valor “verdadero” (truthy):\n",
    " \n",
    "truthy = None or \"ISO-8859-1\"     # → \"utf-8\"\n",
    "print(truthy)\n",
    "\n",
    "truthy = \"\" or \"utf-8\"       # → \"utf-8\"\n",
    "print(truthy)"
   ]
  },
  {
   "cell_type": "markdown",
   "id": "75a91597",
   "metadata": {},
   "source": [
    "Si r.apparent_encoding es, por ejemplo, \"utf-8\", se asigna eso.\n",
    "\n",
    "Si r.apparent_encoding es None (o \"\"), se conserva r.encoding."
   ]
  },
  {
   "cell_type": "code",
   "execution_count": 45,
   "id": "5fdd8f3a",
   "metadata": {},
   "outputs": [
    {
     "name": "stdout",
     "output_type": "stream",
     "text": [
      "Primeros 580 chars: Unicode Demo \n",
      " Taken from  http://www.cl.cam.ac.uk/~mgk25/ucs/examples/UTF-8-demo.txt \n",
      " \n",
      "\n",
      "UTF-8 encoded sample plain-text file\n",
      "‾‾‾‾‾‾‾‾‾‾‾‾‾‾‾‾‾‾‾‾‾‾‾‾‾‾‾‾‾‾‾‾‾‾‾‾\n",
      "\n",
      "Markus Kuhn [ˈmaʳkʊs kuːn]   — 2002-07-25\n",
      "\n",
      "\n",
      "The ASCII compatible UTF-8 encoding used in this plain-text file\n",
      "is defined in Unicode, ISO 10646-1, and RFC 2279.\n",
      "\n",
      "\n",
      "Using Unicode/UTF-8, you can write in emails and source code things such as\n",
      "\n",
      "Mathematics and sciences:\n",
      "\n",
      "  ∮ E⋅da = Q,  n → ∞, ∑ f(i) = ∏ g(i),      ⎧⎡⎛┌─────┐⎞⎤⎫\n",
      "                                            ⎪⎢⎜│a²+b³ ⎟⎥⎪\n",
      "  ∀x∈ℝ: ⌈x⌉ = −⌊−x⌋, α ∧ ¬β = ¬(¬α\n"
     ]
    }
   ],
   "source": [
    "import requests\n",
    "from bs4 import BeautifulSoup\n",
    "\n",
    "r = requests.get(\"https://httpbin.org/encoding/utf8\", timeout=10)\n",
    "\n",
    "# 1️⃣ Detectar el encoding real\n",
    "#r.encoding = r.apparent_encoding or r.encoding\n",
    "\n",
    "if r.apparent_encoding:\n",
    "    r.encoding = r.apparent_encoding\n",
    "else:\n",
    "    r.encoding = r.encoding  # (no cambia nada)\n",
    "\n",
    "\n",
    "# 2️⃣ Parsear el HTML con BeautifulSoup\n",
    "soup = BeautifulSoup(r.text, \"html.parser\")\n",
    "\n",
    "# 3️⃣ Mostrar un trozo de texto plano\n",
    "print(\"Primeros 580 chars:\", soup.get_text(separator=\" \")[:580])\n"
   ]
  }
 ],
 "metadata": {
  "kernelspec": {
   "display_name": "Kernel Estudiante",
   "language": "python",
   "name": "kernel-estudiante"
  },
  "language_info": {
   "codemirror_mode": {
    "name": "ipython",
    "version": 3
   },
   "file_extension": ".py",
   "mimetype": "text/x-python",
   "name": "python",
   "nbconvert_exporter": "python",
   "pygments_lexer": "ipython3",
   "version": "3.12.3"
  }
 },
 "nbformat": 4,
 "nbformat_minor": 5
}
