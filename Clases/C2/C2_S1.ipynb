{
 "cells": [
  {
   "cell_type": "markdown",
   "id": "6d496d5e",
   "metadata": {},
   "source": [
    "# C2_S1 · Evaluación — Descargando una página web\n",
    "\n",
    "**Actividad**: `C2_S1` · **Curso**: Web Scraping (Analyt‑IA)\n",
    "\n",
    "> **Envío por correo**  \n"
   ]
  },
  {
   "cell_type": "code",
   "execution_count": null,
   "id": "e49100f2",
   "metadata": {},
   "outputs": [
    {
     "name": "stdout",
     "output_type": "stream",
     "text": [
      "Asunto sugerido: WSCRAP-C2_S1-tu_correo@dominio.com-CO\n"
     ]
    }
   ],
   "source": [
    "# === METADATOS DEL ESTUDIANTE ===\n",
    "STUDENT_ID = \"javierrupe19@gmail.com\"   # ← usa tu correo de registro\n",
    "COUNTRY    = \"VE\"                   \n",
    "\n",
    "# No cambies esto:\n",
    "ACTIVITY_ID  = \"C2_S1\"\n",
    "MAIL_SUBJECT = f\"WSCRAP-{ACTIVITY_ID}-{STUDENT_ID}-{COUNTRY}\"\n",
    "print(\"Asunto sugerido:\", MAIL_SUBJECT)\n"
   ]
  },
  {
   "cell_type": "markdown",
   "id": "b4333f54",
   "metadata": {},
   "source": [
    "### ✅ Ejercicio (E1)\n",
    "Afirmación: **“Un código HTTP 200 indica éxito (OK).”**\n",
    "\n",
    "Responde con `True` o `False`.\n"
   ]
  },
  {
   "cell_type": "code",
   "execution_count": null,
   "id": "4fa561bf",
   "metadata": {},
   "outputs": [],
   "source": [
    "# Respuesta del estudiante (True/False)\n",
    "RESPUESTA = True\n"
   ]
  },
  {
   "cell_type": "code",
   "execution_count": 6,
   "id": "b840ca41",
   "metadata": {},
   "outputs": [
    {
     "name": "stdout",
     "output_type": "stream",
     "text": [
      "Resultados: {'E1': False} | SCORE: 0 / 1\n",
      "✅ Archivos generados: grading.json, submission.json\n"
     ]
    }
   ],
   "source": [
    "# === AUTOEVALUACIÓN (no modifiques) ===\n",
    "import json\n",
    "\n",
    "ok = (RESPUESTA is True)\n",
    "\n",
    "RESULTS = {\"E1\": bool(ok)}\n",
    "SCORE   = int(ok)\n",
    "MAX     = 1\n",
    "\n",
    "print(\"Resultados:\", RESULTS, \"| SCORE:\", SCORE, \"/\", MAX)\n",
    "\n",
    "grading = {\n",
    "    \"activity_id\": ACTIVITY_ID,\n",
    "    \"student_id\": STUDENT_ID,\n",
    "    \"country\": COUNTRY,\n",
    "    \"results\": RESULTS,\n",
    "    \"score\": SCORE,\n",
    "    \"max\": MAX\n",
    "}\n",
    "submission = {\n",
    "    \"activity_id\": ACTIVITY_ID,\n",
    "    \"student_id\": STUDENT_ID,\n",
    "    \"country\": COUNTRY,\n",
    "    \"answers\": RESULTS\n",
    "}\n",
    "\n",
    "with open(\"grading.json\",\"w\",encoding=\"utf-8\") as f: json.dump(grading, f, ensure_ascii=False, indent=2)\n",
    "with open(\"submission.json\",\"w\",encoding=\"utf-8\") as f: json.dump(submission, f, ensure_ascii=False, indent=2)\n",
    "\n",
    "print(\"✅ Archivos generados: grading.json, submission.json\")\n"
   ]
  }
 ],
 "metadata": {
  "kernelspec": {
   "display_name": "KernelEstudiante",
   "language": "python",
   "name": "kernelestudiante"
  },
  "language_info": {
   "codemirror_mode": {
    "name": "ipython",
    "version": 3
   },
   "file_extension": ".py",
   "mimetype": "text/x-python",
   "name": "python",
   "nbconvert_exporter": "python",
   "pygments_lexer": "ipython3",
   "version": "3.11.0"
  }
 },
 "nbformat": 4,
 "nbformat_minor": 5
}
