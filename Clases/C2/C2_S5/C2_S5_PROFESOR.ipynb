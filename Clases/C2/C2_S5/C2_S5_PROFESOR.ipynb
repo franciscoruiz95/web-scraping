{
 "cells": [
  {
   "cell_type": "markdown",
   "id": "b0b63e0a",
   "metadata": {},
   "source": [
    "# Contenido multimedia"
   ]
  },
  {
   "cell_type": "markdown",
   "id": "f6596c8f",
   "metadata": {},
   "source": [
    "# C2_S5 · Contenido multimedia (Demo profesor)\n",
    "Meta: detectar medios en HTML, resolver URLs absolutas, elegir variantes de `srcset`, clasificar por tipo sin descargar.\n",
    "\n"
   ]
  },
  {
   "cell_type": "raw",
   "id": "68153bb9",
   "metadata": {
    "vscode": {
     "languageId": "raw"
    }
   },
   "source": [
    "📝 URLs de práctica (puedes probar en clase)\n",
    "\n",
    "BooksToScrape (imágenes sencillas): https://books.toscrape.com/\n",
    "\n",
    "W3Schools Video (etiquetas <video>): https://www.w3schools.com/html/html5_video.asp\n",
    "\n",
    "Wikipedia (og:image + srcset): https://es.wikipedia.org/wiki/Web_scraping\n",
    "\n",
    "(Si alguna URL falla por red, la celda imprime un mensaje y sigue.)"
   ]
  },
  {
   "cell_type": "code",
   "execution_count": 3,
   "id": "515bb034",
   "metadata": {},
   "outputs": [],
   "source": [
    "import re, mimetypes\n",
    "from urllib.parse import urljoin, urlparse, urlsplit, urlunsplit\n",
    "from collections import Counter\n",
    "\n",
    "import requests\n",
    "from bs4 import BeautifulSoup\n"
   ]
  },
  {
   "cell_type": "markdown",
   "id": "c7fd6c40",
   "metadata": {},
   "source": [
    "# ¿Dónde se declaran los medios?"
   ]
  },
  {
   "cell_type": "markdown",
   "id": "becf7753",
   "metadata": {},
   "source": [
    "🔹 1. Imágenes (<img>, <picture>/<source>)\n",
    "\n",
    "👉 Link: https://www.w3schools.com/html/html_images.asp\n",
    "\n",
    "Abre y busca en el código:\n"
   ]
  },
  {
   "cell_type": "raw",
   "id": "5f62fc8d",
   "metadata": {
    "vscode": {
     "languageId": "raw"
    }
   },
   "source": [
    "\n",
    "<img src=\"img_girl.jpg\" alt=\"Girl in a jacket\" width=\"500\" height=\"600\">\n",
    "\n",
    "ó\n",
    "\n",
    "<div> (background-image:url('img_girl.jpg'))\n"
   ]
  },
  {
   "cell_type": "markdown",
   "id": "abe208ff",
   "metadata": {},
   "source": [
    "![C](declarandoImg.PNG)"
   ]
  },
  {
   "cell_type": "markdown",
   "id": "e1904664",
   "metadata": {},
   "source": [
    "Esa etiqueta img tiene un atributo src con la URL de la imagen."
   ]
  },
  {
   "cell_type": "markdown",
   "id": "221f334c",
   "metadata": {},
   "source": [
    "👉 Ejemplo con picture/srcset:\n",
    "https://developer.mozilla.org/en-US/docs/Web/HTML/Element/picture\n",
    "\n",
    "En el código hay algo así:"
   ]
  },
  {
   "cell_type": "raw",
   "id": "1fff12ce",
   "metadata": {
    "vscode": {
     "languageId": "raw"
    }
   },
   "source": [
    "<picture>\n",
    "  <source srcset=\"image-wide.png\" media=\"(min-width: 600px)\">\n",
    "  <img src=\"image-narrow.png\" alt=\"…\">\n",
    "</picture>\n"
   ]
  },
  {
   "cell_type": "markdown",
   "id": "3bc6988e",
   "metadata": {},
   "source": [
    "![c](declarandoImg2.png)"
   ]
  },
  {
   "cell_type": "markdown",
   "id": "369a243b",
   "metadata": {},
   "source": [
    "🔹 2. Video (< video >/< source >)\n",
    "\n",
    "👉 Link: https://www.w3schools.com/html/html5_video.asp\n",
    "\n",
    "En el código verás algo así:"
   ]
  },
  {
   "cell_type": "raw",
   "id": "555f7a82",
   "metadata": {
    "vscode": {
     "languageId": "raw"
    }
   },
   "source": [
    "<video width=\"320\" height=\"240\" controls>\n",
    "  <source src=\"mov_bbb.mp4\" type=\"video/mp4\">\n",
    "  <source src=\"mov_bbb.ogg\" type=\"video/ogg\">\n",
    "</video>"
   ]
  },
  {
   "cell_type": "markdown",
   "id": "00b929c7",
   "metadata": {},
   "source": [
    "![w](declaracionVideo.png)"
   ]
  },
  {
   "cell_type": "markdown",
   "id": "1bd32747",
   "metadata": {},
   "source": [
    "🔹 3. Audio (<audio>/<source>)\n",
    "\n",
    "👉 Link: https://www.w3schools.com/html/tryit.asp?filename=tryhtml5_audio_all\n",
    "\n",
    "Código:"
   ]
  },
  {
   "cell_type": "raw",
   "id": "ac08049f",
   "metadata": {
    "vscode": {
     "languageId": "raw"
    }
   },
   "source": [
    "<audio controls>\n",
    "  <source src=\"horse.ogg\" type=\"audio/ogg\">\n",
    "  <source src=\"horse.mp3\" type=\"audio/mpeg\">\n",
    "</audio>\n"
   ]
  },
  {
   "cell_type": "markdown",
   "id": "77bffe45",
   "metadata": {},
   "source": [
    "![s](declaracionAudio.png)"
   ]
  },
  {
   "cell_type": "markdown",
   "id": "da43f0ce",
   "metadata": {},
   "source": [
    "🔹 4. Embebidos ( <    IFRAME  >   )\n",
    "\n",
    "👉 Link: https://www.w3schools.com/html/html_iframe.asp\n",
    "\n",
    "Ejemplo en el código:"
   ]
  },
  {
   "cell_type": "raw",
   "id": "36c83763",
   "metadata": {
    "vscode": {
     "languageId": "raw"
    }
   },
   "source": [
    "<iframe src=\"https://www.w3schools.com\" title=\"W3Schools Free Online Web Tutorials\"></iframe>\n"
   ]
  },
  {
   "cell_type": "markdown",
   "id": "0856fe7d",
   "metadata": {},
   "source": [
    "Aquí el atributo src apunta a otra página embebida."
   ]
  },
  {
   "cell_type": "markdown",
   "id": "cd2b12e9",
   "metadata": {},
   "source": [
    "![a](iframe.png)"
   ]
  },
  {
   "cell_type": "markdown",
   "id": "c5f8e0c5",
   "metadata": {},
   "source": [
    "---\n"
   ]
  },
  {
   "cell_type": "markdown",
   "id": "689f63fc",
   "metadata": {},
   "source": [
    "# Variantes en srcset"
   ]
  },
  {
   "cell_type": "markdown",
   "id": "ccb0b706",
   "metadata": {},
   "source": [
    "\n",
    "🔹 1. Ejemplo sencillo en Python: elegir la “mejor variante”\n",
    "\n",
    "Supongamos que tenemos un srcset de una imagen, que trae varias resoluciones:"
   ]
  },
  {
   "cell_type": "code",
   "execution_count": null,
   "id": "e614303b",
   "metadata": {},
   "outputs": [
    {
     "name": "stdout",
     "output_type": "stream",
     "text": [
      "👉 Regla light: (640, 'https://sitio.com/imagen-640.jpg')\n",
      "👉 Regla heavy: (1280, 'https://sitio.com/imagen-1280.jpg')\n"
     ]
    }
   ],
   "source": [
    "srcset = {\n",
    "    \"320w\": \"https://sitio.com/imagen-320.jpg\",\n",
    "    \"640w\": \"https://sitio.com/imagen-640.jpg\",\n",
    "    \"1280w\": \"https://sitio.com/imagen-1280.jpg\"\n",
    "}\n",
    "\n",
    "# Nuestro \"objetivo\" es 800px\n",
    "objetivo = 800\n",
    "\n",
    "# Regla light → usar la mayor variante que no se pase de 800px\n",
    "mejor_light = max(\n",
    "    [(int(k.replace(\"w\", \"\")), v) for k, v in srcset.items() if int(k.replace(\"w\", \"\")) <= objetivo], #Creo una lista de pares (ancho, url) solo con los anchos menores o iguales al objetivo.\n",
    "    key=lambda x: x[0] # Le digo a max() que compare usando el primer elemento de la tupla (el ancho).\n",
    ")\n",
    "\n",
    "# Regla heavy → usar la mayor variante siempre, sin importar el objetivo\n",
    "mejor_heavy = max(\n",
    "    [(int(k.replace(\"w\", \"\")), v) for k, v in srcset.items()], # Creo una lista de pares (ancho, url) con todas las opciones de imágenes, sin descartar ninguna.\n",
    "    key=lambda x: x[0]\n",
    ")\n",
    "\n",
    "print(\"👉 Regla light:\", mejor_light)\n",
    "print(\"👉 Regla heavy:\", mejor_heavy)\n"
   ]
  },
  {
   "cell_type": "markdown",
   "id": "456eb54e",
   "metadata": {},
   "source": [
    "# Guardar\n"
   ]
  },
  {
   "cell_type": "markdown",
   "id": "af18e1d0",
   "metadata": {},
   "source": [
    "📘 Resumen por secciones\n",
    "1) Guardar una imagen (binario simple)\n",
    "\n",
    "Usamos r.content porque es un archivo binario (no texto).\n",
    "\n",
    "Guardamos con wb → write binary.\n",
    "\n",
    "👉 Ejemplo:"
   ]
  },
  {
   "cell_type": "code",
   "execution_count": 13,
   "id": "787a31c0",
   "metadata": {},
   "outputs": [
    {
     "name": "stdout",
     "output_type": "stream",
     "text": [
      "✅ Imagen guardada\n"
     ]
    }
   ],
   "source": [
    "import requests\n",
    "\n",
    "url = \"https://www.w3.org/People/mimasa/test/imgformat/img/w3c_home.jpg\"\n",
    "r = requests.get(url, timeout=10)\n",
    "r.raise_for_status()\n",
    "\n",
    "with open(\"imagen_w3c.jpg\", \"wb\") as f:\n",
    "    f.write(r.content)\n",
    "\n",
    "print(\"✅ Imagen guardada\")\n"
   ]
  },
  {
   "cell_type": "markdown",
   "id": "6b31ff99",
   "metadata": {},
   "source": [
    "2) Guardar un MP3\n",
    "\n",
    "Igual que la imagen, es binario.\n",
    "\n",
    "Sólo cambia la extensión.\n",
    "\n",
    "👉 Ejemplo:"
   ]
  },
  {
   "cell_type": "code",
   "execution_count": 14,
   "id": "c9d1b054",
   "metadata": {},
   "outputs": [
    {
     "name": "stdout",
     "output_type": "stream",
     "text": [
      "✅ MP3 guardado\n"
     ]
    }
   ],
   "source": [
    "url = \"https://www.soundhelix.com/examples/mp3/SoundHelix-Song-1.mp3\"\n",
    "\n",
    "r = requests.get(url, timeout=15)\n",
    "r.raise_for_status()\n",
    "\n",
    "with open(\"ejemplo_song.mp3\", \"wb\") as f:\n",
    "    f.write(r.content)\n",
    "\n",
    "print(\"✅ MP3 guardado\")\n"
   ]
  },
  {
   "cell_type": "markdown",
   "id": "432da4a2",
   "metadata": {},
   "source": [
    "3) Guardar un Video (streaming)\n",
    "\n",
    "Como los videos pesan mucho, usamos stream=True + iter_content para leerlo por partes (chunks).\n",
    "\n",
    "Así no llenamos la memoria RAM.\n",
    "\n",
    "👉 Ejemplo:"
   ]
  },
  {
   "cell_type": "code",
   "execution_count": 19,
   "id": "56b6751c",
   "metadata": {},
   "outputs": [
    {
     "name": "stdout",
     "output_type": "stream",
     "text": [
      "Video guardado correctamente como ejemplo.mp4\n"
     ]
    }
   ],
   "source": [
    "import requests\n",
    "\n",
    "url = \"https://file-examples.com/storage/fe26d8c2d5f7e194c16f1a3/2017/04/file_example_MP4_480_1_5MG.mp4\"\n",
    "\n",
    "# streaming=True permite descargar en chunks\n",
    "resp = requests.get(url, stream=True)\n",
    "\n",
    "with open(\"ejemplo.mp4\", \"wb\") as f:\n",
    "    for chunk in resp.iter_content(chunk_size=1024):  # 1 KB por chunk (puedes usar 4096 o 8192)\n",
    "        if chunk:  # filtra keep-alive chunks vacíos\n",
    "            f.write(chunk)\n",
    "\n",
    "print(\"Video guardado correctamente como ejemplo.mp4\")\n",
    "\n"
   ]
  },
  {
   "cell_type": "markdown",
   "id": "6bd0443c",
   "metadata": {},
   "source": [
    "#### Calsaificar"
   ]
  },
  {
   "cell_type": "markdown",
   "id": "0d3c6445",
   "metadata": {},
   "source": [
    "![sss](Clasifica.png)"
   ]
  },
  {
   "cell_type": "markdown",
   "id": "9666dbf9",
   "metadata": {},
   "source": [
    "### MIME\n",
    "\n"
   ]
  },
  {
   "cell_type": "markdown",
   "id": "84076504",
   "metadata": {},
   "source": [
    "1. Qué es MIME\n",
    "\n",
    "MIME type = “Multipurpose Internet Mail Extensions type”.\n",
    "\n",
    "Es un estándar para nombrar qué tipo de archivo es un recurso, en formato:"
   ]
  },
  {
   "cell_type": "raw",
   "id": "6a851c23",
   "metadata": {
    "vscode": {
     "languageId": "raw"
    }
   },
   "source": [
    "tipo/subtipo\n",
    "\n",
    "Ejemplos:\n",
    "\n",
    "image/jpeg\n",
    "\n",
    "video/mp4\n",
    "\n",
    "audio/mpeg\n",
    "\n",
    "application/pdf\n"
   ]
  },
  {
   "cell_type": "markdown",
   "id": "7472d837",
   "metadata": {},
   "source": [
    "👉 Content-Type es un header HTTP que contiene el MIME.\n",
    "Ejemplo: un servidor puede responder:"
   ]
  },
  {
   "cell_type": "markdown",
   "id": "2baa4dac",
   "metadata": {},
   "source": [
    "Content-Type: image/png\n"
   ]
  },
  {
   "cell_type": "raw",
   "id": "4029b1d1",
   "metadata": {
    "vscode": {
     "languageId": "raw"
    }
   },
   "source": [
    "Aquí, el Content-Type → \"image/png\", que en sí es un MIME."
   ]
  },
  {
   "cell_type": "markdown",
   "id": "f8a3cb93",
   "metadata": {},
   "source": [
    "### ¿De qué me sirve clasificar?"
   ]
  },
  {
   "cell_type": "markdown",
   "id": "438b79dc",
   "metadata": {},
   "source": [
    "\n",
    "\n",
    "Clasificar antes de descargar sirve para:\n",
    "\n",
    "Priorizar: Si quieres solo imágenes, descartas audios/videos sin bajarlos.\n",
    "\n",
    "Filtrar basura: Evitas guardar PDFs, HTML, etc. cuando buscabas medios multimedia.\n",
    "\n",
    "Optimizar: Ahorras ancho de banda y CPU porque decides qué descargar de verdad.\n",
    "\n",
    "Organizar: Puedes separar los recursos en carpetas (imgs/, videos/, audios/).\n",
    "\n",
    "Ejemplo real:\n",
    "\n",
    "Si haces un scraper y una página tiene 100 links, con classify() puedes ignorar los que apuntan a .pdf o .html, y quedarte solo con imágenes o audios."
   ]
  },
  {
   "cell_type": "code",
   "execution_count": null,
   "id": "026cad94",
   "metadata": {},
   "outputs": [],
   "source": [
    "def classify(url: str, content_type: str | None) -> str:\n",
    "    # Normalizamos los valores a minúscula para evitar problemas de mayúsculas\n",
    "    ct = (content_type or \"\").lower()\n",
    "    u = (url or \"\").lower()\n",
    "\n",
    "    # 1. Si el servidor nos dio un Content-Type y dice \"image/\" → lo clasificamos como imagen.\n",
    "    #    Si no, también revisamos por extensión .png, .jpg, etc.\n",
    "    if \"image/\" in ct or u.endswith((\".png\",\".jpg\",\".jpeg\",\".gif\",\".webp\",\".svg\")):\n",
    "        return \"img\"\n",
    "\n",
    "    # 2. Lo mismo para video: preferimos Content-Type \"video/\"\n",
    "    #    pero si no hay, revisamos extensiones conocidas.\n",
    "    if \"video/\" in ct or u.endswith((\".mp4\",\".webm\",\".ogg\",\".mov\",\".m4v\")):\n",
    "        return \"video\"\n",
    "\n",
    "    # 3. Lo mismo para audio.\n",
    "    if \"audio/\" in ct or u.endswith((\".mp3\",\".ogg\",\".wav\",\".m4a\")):\n",
    "        return \"audio\"\n",
    "\n",
    "    # 4. Detectamos enlaces que no apuntan a un archivo en sí,\n",
    "    #    sino a un \"embed\" (ej: YouTube, Spotify, SoundCloud).\n",
    "    if any(k in u for k in (\"youtube.com\",\"youtu.be\",\"spotify.com\",\"soundcloud.com\")):\n",
    "        return \"embed\"\n",
    "\n",
    "    # 5. Si no encaja en ninguna regla, lo clasificamos como \"other\".\n",
    "    return \"other\"\n",
    "\n"
   ]
  },
  {
   "cell_type": "markdown",
   "id": "f71df651",
   "metadata": {},
   "source": [
    "Cómo probarla individualmente 👇\n",
    "\n",
    "Esto significa que ya sabes qué es cada link sin descargar nada."
   ]
  },
  {
   "cell_type": "code",
   "execution_count": 34,
   "id": "0f60d219",
   "metadata": {},
   "outputs": [
    {
     "name": "stdout",
     "output_type": "stream",
     "text": [
      "https://example.com/foto.png -> img\n",
      "https://example.com/video.mp4 -> video\n",
      "https://example.com/cancion.mp3 -> audio\n",
      "https://youtube.com/watch?v=abc -> embed\n",
      "https://example.com/documento.pdf -> other\n"
     ]
    }
   ],
   "source": [
    "# Lista de pruebas con URL + content-type\n",
    "pruebas = [\n",
    "    (\"https://example.com/foto.png\", \"image/png\"),\n",
    "    (\"https://example.com/video.mp4\", \"video/mp4\"),\n",
    "    (\"https://example.com/cancion.mp3\", \"audio/mpeg\"),\n",
    "    (\"https://youtube.com/watch?v=abc\", None),\n",
    "    (\"https://example.com/documento.pdf\", \"application/pdf\"),\n",
    "]\n",
    "\n",
    "# Probar la función con cada caso\n",
    "for url, ct in pruebas:\n",
    "    print(url, \"->\", classify(url, ct))\n"
   ]
  }
 ],
 "metadata": {
  "kernelspec": {
   "display_name": "KernelEstudiante",
   "language": "python",
   "name": "kernelestudiante"
  },
  "language_info": {
   "codemirror_mode": {
    "name": "ipython",
    "version": 3
   },
   "file_extension": ".py",
   "mimetype": "text/x-python",
   "name": "python",
   "nbconvert_exporter": "python",
   "pygments_lexer": "ipython3",
   "version": "3.11.0"
  }
 },
 "nbformat": 4,
 "nbformat_minor": 5
}
