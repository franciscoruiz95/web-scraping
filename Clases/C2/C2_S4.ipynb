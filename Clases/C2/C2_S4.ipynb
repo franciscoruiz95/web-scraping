{
 "cells": [
  {
   "cell_type": "markdown",
   "id": "2f947909",
   "metadata": {},
   "source": [
    "# C2_S4 · Evaluación — Descargando contenido\n",
    "\n",
    "**Actividad**: `C2_S4` · **Curso**: Web Scraping (Analyt‑IA)\n",
    "\n"
   ]
  },
  {
   "cell_type": "code",
   "execution_count": 1,
   "id": "972b4cfa",
   "metadata": {},
   "outputs": [
    {
     "name": "stdout",
     "output_type": "stream",
     "text": [
      "Asunto sugerido: WSCRAP-C2_S4-javierrupe19@gmail.com-VE\n"
     ]
    }
   ],
   "source": [
    "STUDENT_ID = \"javierrupe19@gmail.com\"\n",
    "COUNTRY    = \"VE\"\n",
    "\n",
    "ACTIVITY_ID  = \"C2_S4\"\n",
    "MAIL_SUBJECT = f\"WSCRAP-{ACTIVITY_ID}-{STUDENT_ID}-{COUNTRY}\"\n",
    "print(\"Asunto sugerido:\", MAIL_SUBJECT)\n"
   ]
  },
  {
   "cell_type": "markdown",
   "id": "44eda73b",
   "metadata": {},
   "source": [
    "### ✅ Ejercicio (E1)\n",
    "Para una **imagen** con `Content-Type = image/png`, ¿qué debes leer de la respuesta?\n",
    "\n",
    "Escribe **exactamente**: `\"text\"` **o** `\"bytes\"`.\n"
   ]
  },
  {
   "cell_type": "code",
   "execution_count": null,
   "id": "6bbe9e53",
   "metadata": {},
   "outputs": [],
   "source": [
    "# Respuesta del estudiante\n",
    "\n",
    "MODO = \"bytes\"\n"
   ]
  },
  {
   "cell_type": "code",
   "execution_count": 7,
   "id": "23ba2935",
   "metadata": {},
   "outputs": [
    {
     "name": "stdout",
     "output_type": "stream",
     "text": [
      "Resultados: {'E1': False} | SCORE: 0 / 1\n",
      "✅ Archivos generados: grading.json, submission.json\n"
     ]
    }
   ],
   "source": [
    "import json\n",
    "ok = isinstance(MODO, str) and MODO.strip().lower() == \"bytes\"\n",
    "\n",
    "RESULTS = {\"E1\": bool(ok)}\n",
    "SCORE   = int(ok)\n",
    "MAX     = 1\n",
    "\n",
    "print(\"Resultados:\", RESULTS, \"| SCORE:\", SCORE, \"/\", MAX)\n",
    "\n",
    "grading = {\"activity_id\": \"C2_S4\", \"student_id\": STUDENT_ID, \"country\": COUNTRY,\n",
    "           \"results\": RESULTS, \"score\": SCORE, \"max\": MAX}\n",
    "submission = {\"activity_id\": \"C2_S4\", \"student_id\": STUDENT_ID, \"country\": COUNTRY,\n",
    "              \"answers\": RESULTS}\n",
    "\n",
    "with open(\"grading.json\",\"w\",encoding=\"utf-8\") as f: json.dump(grading, f, ensure_ascii=False, indent=2)\n",
    "with open(\"submission.json\",\"w\",encoding=\"utf-8\") as f: json.dump(submission, f, ensure_ascii=False, indent=2)\n",
    "print(\"✅ Archivos generados: grading.json, submission.json\")\n"
   ]
  }
 ],
 "metadata": {
  "kernelspec": {
   "display_name": "Kernel Estudiante",
   "language": "python",
   "name": "kernel-estudiante"
  },
  "language_info": {
   "codemirror_mode": {
    "name": "ipython",
    "version": 3
   },
   "file_extension": ".py",
   "mimetype": "text/x-python",
   "name": "python",
   "nbconvert_exporter": "python",
   "pygments_lexer": "ipython3",
   "version": "3.11.13"
  }
 },
 "nbformat": 4,
 "nbformat_minor": 5
}
