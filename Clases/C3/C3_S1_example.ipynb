{
 "cells": [
  {
   "cell_type": "code",
   "execution_count": 1,
   "id": "81fffdff",
   "metadata": {},
   "outputs": [
    {
     "name": "stdout",
     "output_type": "stream",
     "text": [
      "<!DOCTYPE html>\n",
      "<html lang=\"en\">\n",
      "<head>\n",
      "\t<meta charset=\"UTF-8\">\n",
      "\t<title>Quotes to Scrape</title>\n",
      "    <link rel=\"stylesheet\" href=\"/static/bootstrap.min.css\">\n",
      "    <link rel=\"stylesheet\" href=\"/static/main.css\">\n",
      "    \n",
      "    \n",
      "</head>\n",
      "<body>\n",
      "    <div class=\"container\">\n",
      "        <div class=\"row header-box\">\n",
      "            <div class=\"col-md-8\">\n",
      "                <h1>\n",
      "                    <a href=\"/\" style=\"text-decoration: none\">Quotes to Scrape</a>\n",
      "                </h1>\n",
      "            </div>\n",
      "            <div class=\"col-md-4\">\n",
      "                <p>\n",
      "                \n",
      "                    <a href=\"/login\">Login</a>\n",
      "                \n",
      "                </p>\n",
      "            </div>\n",
      "        </div>\n",
      "    \n",
      "<div class=\"row\">\n",
      "    <div class=\"col-md-8\">\n",
      "        <div class=\"quotes\"></div>\n",
      "    </div>\n",
      "</div>\n",
      "<div id=\"loading\" style=\"background-color: #eeeecc\"><h5>Loading...</h5></div>\n",
      "<script src=\"/static/jquery.js\"></script>\n",
      "<script>\n",
      "    $(function(){\n",
      "        var page = 1, tag = null, hasNextPage = true;\n",
      "        function appendQuotes(quotes) {\n",
      "            var $quotes = $('.quotes');\n",
      "            var html = $.map(quotes, function(d){\n",
      "                var tags = $.map(d['tags'], function(t) {\n",
      "                    return \"<a class='tag'>\" + t + \"</a>\";\n",
      "                }).join(\" \");\n",
      "                return \"<div class='quote'><span class='text'>\" + d['text'] + \"</span><span>by <small class='author'>\" + d['author']['name'] + \"</small></span><div class='tags'>Tags: \" + tags + \"</div></div>\";\n",
      "            });\n",
      "\n",
      "            $quotes.append(html);\n",
      "        }\n",
      "\n",
      "        function updatePage(page) {\n",
      "            $('#loading').show('fast');\n",
      "            $.get('/api/quotes', {page: page}).done(function(data) {\n",
      "                appendQuotes(data.quotes);\n",
      "                hasNextPage = data.has_next;\n",
      "                $('#loading').hide('fast');\n",
      "            });\n",
      "        }\n",
      "        updatePage(page);\n",
      "        $(window).on('scroll', function(){\n",
      "            var scrollTop = $(window).scrollTop();\n",
      "            var heightDiff = $(document).height() - $(window).height();\n",
      "            if (hasNextPage && Math.abs(scrollTop - heightDiff) <= 1){\n",
      "                page += 1;\n",
      "                console.log('scrolling to page: ' + page);\n",
      "                updatePage(page);\n",
      "            }\n",
      "        });\n",
      "    });\n",
      "</script>\n",
      "\n",
      "    </div>\n",
      "    <footer class=\"footer\">\n",
      "        <div class=\"container\">\n",
      "            <p class=\"text-muted\">\n",
      "                Quotes by: <a href=\"https://www.goodreads.com/quotes\">GoodReads.com</a>\n",
      "            </p>\n",
      "            <p class=\"copyright\">\n",
      "                Made with <span class='zyte'>❤</span> by <a class='zyte' href=\"https://www.zyte.com\">Zyte</a>\n",
      "            </p>\n",
      "        </div>\n",
      "    </footer>\n",
      "</body>\n",
      "</html>\n"
     ]
    }
   ],
   "source": [
    "import requests\n",
    "from bs4 import BeautifulSoup\n",
    " \n",
    "url = \"https://quotes.toscrape.com/scroll\"\n",
    " \n",
    "response = requests.get(url)\n",
    " \n",
    "print(response.text)"
   ]
  },
  {
   "cell_type": "code",
   "execution_count": 2,
   "id": "84525b21",
   "metadata": {},
   "outputs": [
    {
     "name": "stdout",
     "output_type": "stream",
     "text": [
      "Frases encontradas: 0\n"
     ]
    }
   ],
   "source": [
    "import requests\n",
    "from bs4 import BeautifulSoup\n",
    " \n",
    "url = \"https://quotes.toscrape.com/scroll\"\n",
    " \n",
    "response = requests.get(url)\n",
    " \n",
    "soup = BeautifulSoup(response.text, \"html.parser\")\n",
    " \n",
    "quotes = soup.select(\".quote span.text\")\n",
    "print(\"Frases encontradas:\", len(quotes))\n",
    "for q in quotes:\n",
    "    print(q.text)"
   ]
  },
  {
   "cell_type": "code",
   "execution_count": 3,
   "id": "92b02a59",
   "metadata": {},
   "outputs": [
    {
     "name": "stdout",
     "output_type": "stream",
     "text": [
      "Frases encontradas con Selenium: 60\n"
     ]
    }
   ],
   "source": [
    "from selenium import webdriver\n",
    "from selenium.webdriver.common.by import By\n",
    "import time\n",
    " \n",
    "driver = webdriver.Chrome()\n",
    "driver.get(\"https://quotes.toscrape.com/scroll\")\n",
    " \n",
    "# Scroll artificial para cargar más contenido\n",
    "for _ in range(5):\n",
    "    driver.execute_script(\"window.scrollTo(0, document.body.scrollHeight);\")\n",
    "    time.sleep(2)\n",
    " \n",
    "quotes = driver.find_elements(By.CLASS_NAME, \"quote\")\n",
    "print(\"Frases encontradas con Selenium:\", len(quotes))\n",
    "#for q in quotes:\n",
    "#    print(q.text.strip())\n",
    " \n",
    "driver.quit()"
   ]
  },
  {
   "cell_type": "markdown",
   "id": "2425164d",
   "metadata": {},
   "source": [
    "# Abiri el Navegador"
   ]
  },
  {
   "cell_type": "code",
   "execution_count": null,
   "id": "62380a09",
   "metadata": {},
   "outputs": [],
   "source": [
    "from selenium import webdriver\n",
    "from selenium.webdriver.common.by import By\n",
    "from selenium.webdriver.support.ui import WebDriverWait\n",
    "from selenium.webdriver.support import expected_conditions as EC\n",
    "import time\n",
    " \n",
    "# Iniciar navegador y espera explícita\n",
    "driver = webdriver.Chrome()\n",
    "wait = WebDriverWait(driver, 10)\n",
    " \n",
    "try:\n",
    "    # Paso 1: Cargar la página\n",
    "    print(\"🌐 Abriendo el formulario de ejemplo...\")\n",
    "    driver.get(\"https://www.selenium.dev/selenium/web/web-form.html\")\n",
    "    time.sleep(1)\n",
    " \n",
    "    # Paso 2: Esperar que el campo esté visible\n",
    "    text_input = wait.until(EC.visibility_of_element_located((By.NAME, \"my-text\")))\n",
    " \n",
    "    # Paso 3: Resaltar el campo con borde naranja\n",
    "    driver.execute_script(\"arguments[0].style.border = '3px solid orange';\", text_input)\n",
    " \n",
    "    # Paso 4: Imprimir HTML real del campo\n",
    "    print(\"🧾 HTML del input:\")\n",
    "    print(text_input.get_attribute(\"outerHTML\"))\n",
    " \n",
    "    # Paso 5: Limpiar y escribir en el campo\n",
    "    text_input.clear()\n",
    "    text_input.send_keys(\"Analyt-IA\")\n",
    "    time.sleep(2)\n",
    " \n",
    "finally:\n",
    "    # Paso final: cerrar navegador\n",
    "    print(\"✅ Cerrando navegador.\")\n",
    "    driver.quit()"
   ]
  },
  {
   "cell_type": "code",
   "execution_count": 4,
   "id": "06fe8ad8",
   "metadata": {},
   "outputs": [
    {
     "name": "stdout",
     "output_type": "stream",
     "text": [
      "🌐 Abriendo formulario...\n",
      "⏳ Esperando a que el botón esté listo para hacer clic...\n",
      "🟥 Botón listo. Aplicando borde rojo para resaltarlo...\n",
      "🖱️ Haciendo clic en el botón...\n",
      "✅ Clic exitoso. Cerrando navegador.\n"
     ]
    }
   ],
   "source": [
    "from selenium import webdriver\n",
    "from selenium.webdriver.common.by import By\n",
    "from selenium.webdriver.support.ui import WebDriverWait\n",
    "from selenium.webdriver.support import expected_conditions as EC\n",
    "import time\n",
    " \n",
    "# Iniciar navegador (con ventana visible)\n",
    "driver = webdriver.Chrome()\n",
    " \n",
    "# Paso 1: Cargar la página\n",
    "print(\"🌐 Abriendo formulario...\")\n",
    "driver.get(\"https://www.selenium.dev/selenium/web/web-form.html\")\n",
    "time.sleep(2)\n",
    " \n",
    "# Paso 2: Esperar a que el botón esté clickeable\n",
    "print(\"⏳ Esperando a que el botón esté listo para hacer clic...\")\n",
    "wait = WebDriverWait(driver, 10)\n",
    "button = wait.until(EC.element_to_be_clickable((By.CSS_SELECTOR, \"button\")))\n",
    "#driver.execute_script(\"arguments[0].style.border = '3px solid red';\", button)\n",
    " \n",
    "# Paso 3: Resaltar el botón antes del clic\n",
    "print(\"🟥 Botón listo. Aplicando borde rojo para resaltarlo...\")\n",
    "driver.execute_script(\"arguments[0].style.border = '3px solid red';\", button)\n",
    "time.sleep(2)\n",
    " \n",
    "# Paso 4: Hacer clic en el botón\n",
    "print(\"🖱️ Haciendo clic en el botón...\")\n",
    "button.click()\n",
    "time.sleep(2)\n",
    " \n",
    "# Paso final: cerrar navegador\n",
    "print(\"✅ Clic exitoso. Cerrando navegador.\")\n",
    "driver.quit()"
   ]
  },
  {
   "cell_type": "code",
   "execution_count": 5,
   "id": "e80763f0",
   "metadata": {},
   "outputs": [
    {
     "name": "stdout",
     "output_type": "stream",
     "text": [
      "🌐 Abriendo página con scroll dinámico...\n",
      "🖱️ Haciendo scroll hacia abajo para cargar más contenido...\n",
      "↪️ Scroll #1\n",
      "↪️ Scroll #2\n",
      "↪️ Scroll #3\n",
      "💬 Frases encontradas tras el scroll: 40\n",
      "✅ Scroll completo. Cerrando navegador.\n"
     ]
    }
   ],
   "source": [
    "from selenium import webdriver\n",
    "from selenium.webdriver.common.by import By\n",
    "import time\n",
    " \n",
    "# Iniciar navegador\n",
    "driver = webdriver.Chrome()\n",
    " \n",
    "# Paso 1: Abrir página con scroll infinito\n",
    "print(\"🌐 Abriendo página con scroll dinámico...\")\n",
    "driver.get(\"https://quotes.toscrape.com/scroll\")\n",
    "time.sleep(2)\n",
    " \n",
    "# Paso 2: Hacer scroll varias veces\n",
    "print(\"🖱️ Haciendo scroll hacia abajo para cargar más contenido...\")\n",
    "for i in range(3):\n",
    "    print(f\"↪️ Scroll #{i+1}\")\n",
    "    driver.execute_script(\"window.scrollTo(0, document.body.scrollHeight);\")\n",
    "    time.sleep(2)  # Esperar que se carguen nuevas frases\n",
    " \n",
    "# Paso 3: Contar cuántas frases se cargaron\n",
    "quotes = driver.find_elements(By.CLASS_NAME, \"quote\")\n",
    "print(\"💬 Frases encontradas tras el scroll:\", len(quotes))\n",
    " \n",
    "# Paso final: cerrar navegador\n",
    "print(\"✅ Scroll completo. Cerrando navegador.\")\n",
    "driver.quit()"
   ]
  }
 ],
 "metadata": {
  "kernelspec": {
   "display_name": "Kernel Estudiante",
   "language": "python",
   "name": "kernel-estudiante"
  },
  "language_info": {
   "codemirror_mode": {
    "name": "ipython",
    "version": 3
   },
   "file_extension": ".py",
   "mimetype": "text/x-python",
   "name": "python",
   "nbconvert_exporter": "python",
   "pygments_lexer": "ipython3",
   "version": "3.12.3"
  }
 },
 "nbformat": 4,
 "nbformat_minor": 5
}
