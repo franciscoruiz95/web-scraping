{
 "cells": [
  {
   "cell_type": "markdown",
   "id": "8c796f1c",
   "metadata": {},
   "source": [
    "# C1_S2 · robots.txt (Subtema robots)\n",
    "\n",
    "**Instrucciones**: lee la explicación en clase. En esta actividad indicarás con True/False si la ruta es accesible según el robots.txt que vimos.\n"
   ]
  },
  {
   "cell_type": "code",
   "execution_count": null,
   "id": "12f1cb8f",
   "metadata": {},
   "outputs": [
    {
     "name": "stdout",
     "output_type": "stream",
     "text": [
      "Asunto sugerido: WSCRAP-C1_S2-tu_correo@ejemplo.com-CO\n"
     ]
    }
   ],
   "source": [
    "# === METADATOS DEL ESTUDIANTE (EDITA ESTOS CAMPOS) ===\n",
    "STUDENT_ID = \"javierrupe19@gmail.com\"\n",
    "COUNTRY    =  \"VE\"\n",
    "\n",
    "ACTIVITY_ID = \"C1_S2\"\n",
    "MAIL_SUBJECT = f\"WSCRAP-{ACTIVITY_ID}-{STUDENT_ID}-{COUNTRY}\"\n",
    "print(\"Asunto sugerido:\", MAIL_SUBJECT)\n"
   ]
  },
  {
   "cell_type": "markdown",
   "id": "890aa293",
   "metadata": {},
   "source": [
    "Usamos este robots.txt (tal como lo vimos en clase de \"https://fedepatin.org.co/robots.txt\"):\n",
    "\n",
    "\n",
    "User-agent: *\n",
    "\n",
    "- Disallow: /wp-admin/\n",
    "\n",
    "- Allow: /wp-admin/admin-ajax.php\n",
    "\n",
    "\n",
    "\n",
    "Regla: marca True si la ruta ES ACCESIBLE para el User-Agent de la clase; False si está BLOQUEADA.\n"
   ]
  },
  {
   "cell_type": "code",
   "execution_count": null,
   "id": "7e602473",
   "metadata": {},
   "outputs": [],
   "source": [
    "# === RESPUESTAS DEL ALUMNO (pon True/False) ===\n",
    "# Marca True si la ruta ES accesible según el robots.txt mostrado arriba;\n",
    "# marca False si está BLOQUEADA.\n",
    "\n",
    "# 1) /wp-admin/      (bloqueado por Disallow)\n",
    "R1 = False   # ← Reemplaza los tres puntos por True o False\n",
    "\n",
    "# 2) /wp-admin/admin-ajax.php   (permitido por Allow)\n",
    "R2 = True   # Reemplaza los tres puntos por ← True o False\n"
   ]
  },
  {
   "cell_type": "code",
   "execution_count": 3,
   "id": "0b7933a9",
   "metadata": {},
   "outputs": [
    {
     "name": "stdout",
     "output_type": "stream",
     "text": [
      "Resultados: {'E1': False, 'E2': False} | SCORE: 0 / 2\n",
      "✅ Archivos generados: grading.json, submission.json\n"
     ]
    }
   ],
   "source": [
    "# === AUTOEVALUACIÓN (no modifiques) ===\n",
    "import json\n",
    "\n",
    "# Valores esperados (derivados del robots.txt del enunciado)\n",
    "# /wp-admin/            → bloqueado  → False\n",
    "# /wp-admin/admin-ajax.php → permitido → True\n",
    "expected_R1 = False\n",
    "expected_R2 = True\n",
    "\n",
    "# Recuperar respuestas del alumno con tolerancia si olvidó definirlas\n",
    "try:\n",
    "    _R1 = R1\n",
    "except NameError:\n",
    "    _R1 = None\n",
    "\n",
    "try:\n",
    "    _R2 = R2\n",
    "except NameError:\n",
    "    _R2 = None\n",
    "\n",
    "# Chequeos de tipo y valor exacto\n",
    "E1_ok = (isinstance(_R1, bool) and _R1 == expected_R1)\n",
    "E2_ok = (isinstance(_R2, bool) and _R2 == expected_R2)\n",
    "\n",
    "# Consolidado TeacherBot\n",
    "RESULTS = {\"E1\": bool(E1_ok), \"E2\": bool(E2_ok)}\n",
    "SCORE   = int(E1_ok) + int(E2_ok)\n",
    "MAX     = 2\n",
    "\n",
    "print(\"Resultados:\", RESULTS, \"| SCORE:\", SCORE, \"/\", MAX)\n",
    "\n",
    "# === Metadatos requeridos por el pipeline (ya deben existir en el notebook) ===\n",
    "# Variables: ACTIVITY_ID, STUDENT_ID, COUNTRY\n",
    "grading = {\n",
    "    \"activity_id\": ACTIVITY_ID,\n",
    "    \"student_id\": STUDENT_ID,\n",
    "    \"country\": COUNTRY,\n",
    "    \"results\": RESULTS,\n",
    "    \"score\": SCORE,\n",
    "    \"max\": MAX\n",
    "}\n",
    "submission = {\n",
    "    \"activity_id\": ACTIVITY_ID,\n",
    "    \"student_id\": STUDENT_ID,\n",
    "    \"country\": COUNTRY,\n",
    "    \"answers\": RESULTS\n",
    "}\n",
    "\n",
    "with open(\"grading.json\",\"w\",encoding=\"utf-8\") as f:\n",
    "    json.dump(grading, f, ensure_ascii=False, indent=2)\n",
    "with open(\"submission.json\",\"w\",encoding=\"utf-8\") as f:\n",
    "    json.dump(submission, f, ensure_ascii=False, indent=2)\n",
    "\n",
    "print(\"✅ Archivos generados: grading.json, submission.json\")\n"
   ]
  }
 ],
 "metadata": {
  "kernelspec": {
   "display_name": "KernelEstudiante",
   "language": "python",
   "name": "kernelestudiante"
  },
  "language_info": {
   "codemirror_mode": {
    "name": "ipython",
    "version": 3
   },
   "file_extension": ".py",
   "mimetype": "text/x-python",
   "name": "python",
   "nbconvert_exporter": "python",
   "pygments_lexer": "ipython3",
   "version": "3.11.0"
  }
 },
 "nbformat": 4,
 "nbformat_minor": 5
}
