{
 "cells": [
  {
   "cell_type": "code",
   "execution_count": 1,
   "id": "f8c9db49",
   "metadata": {},
   "outputs": [
    {
     "name": "stdout",
     "output_type": "stream",
     "text": [
      "Status code: 200\n",
      "JSON de respuesta: {'args': {}, 'headers': {'Accept': '*/*', 'Accept-Encoding': 'gzip, deflate', 'Host': 'httpbin.org', 'User-Agent': 'python-requests/2.32.5', 'X-Amzn-Trace-Id': 'Root=1-68b0e415-2e6b07da42167e2424ab47eb'}, 'origin': '190.6.51.124', 'url': 'https://httpbin.org/get'}\n"
     ]
    }
   ],
   "source": [
    "import requests\n",
    " \n",
    "# URL sencilla y estable\n",
    "\n",
    "url = \"https://httpbin.org/get\"\n",
    " \n",
    "# Hacemos la solicitud\n",
    "\n",
    "response = requests.get(url)\n",
    " \n",
    "# Validamos si la respuesta fue correcta (200 = OK)\n",
    "\n",
    "print(\"Status code:\", response.status_code)\n",
    " \n",
    "# Mostramos el contenido en formato JSON\n",
    "\n",
    "print(\"JSON de respuesta:\", response.json())"
   ]
  }
 ],
 "metadata": {
  "kernelspec": {
   "display_name": "Kernel Estudiante",
   "language": "python",
   "name": "kernel-estudiante"
  },
  "language_info": {
   "codemirror_mode": {
    "name": "ipython",
    "version": 3
   },
   "file_extension": ".py",
   "mimetype": "text/x-python",
   "name": "python",
   "nbconvert_exporter": "python",
   "pygments_lexer": "ipython3",
   "version": "3.12.3"
  }
 },
 "nbformat": 4,
 "nbformat_minor": 5
}
